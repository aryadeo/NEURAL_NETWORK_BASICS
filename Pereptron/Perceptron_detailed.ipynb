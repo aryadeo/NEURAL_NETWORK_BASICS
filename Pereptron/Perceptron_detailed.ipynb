{
  "nbformat": 4,
  "nbformat_minor": 0,
  "metadata": {
    "colab": {
      "name": "Perceptron.ipynb",
      "provenance": [],
      "collapsed_sections": [
        "mfzNEVGbI0-w",
        "I8rc4HtFvDQy",
        "lq_MaVs2u71k"
      ],
      "toc_visible": true,
      "include_colab_link": true
    },
    "kernelspec": {
      "name": "python3",
      "display_name": "Python 3"
    }
  },
  "cells": [
    {
      "cell_type": "markdown",
      "metadata": {
        "id": "view-in-github",
        "colab_type": "text"
      },
      "source": [
        "<a href=\"https://colab.research.google.com/github/aryadeo/NEURAL_NETWORK_BASICS/blob/master/Pereptron/Perceptron_detailed.ipynb\" target=\"_parent\"><img src=\"https://colab.research.google.com/assets/colab-badge.svg\" alt=\"Open In Colab\"/></a>"
      ]
    },
    {
      "cell_type": "markdown",
      "metadata": {
        "id": "ZzlRJudrhCWF",
        "colab_type": "text"
      },
      "source": [
        "#Perceptron"
      ]
    },
    {
      "cell_type": "markdown",
      "metadata": {
        "id": "aRntHyx_gszt",
        "colab_type": "text"
      },
      "source": [
        "\n",
        "\n",
        "![Perceptron](https://drive.google.com/uc?id=1MpXnhm2FJkPnjB99HrDIU_IGX1JTGdJ-)"
      ]
    },
    {
      "cell_type": "markdown",
      "metadata": {
        "id": "8aoqwRRQiulu",
        "colab_type": "text"
      },
      "source": [
        "The model equation is:\n",
        "\n",
        "$y=1,\\mbox{if} \\sum_i w_ix_i>=b$\n",
        "\n",
        "$y=0,\\mbox{otherwise}$"
      ]
    },
    {
      "cell_type": "markdown",
      "metadata": {
        "id": "afUF1aR2h6A5",
        "colab_type": "text"
      },
      "source": [
        "Objective: Formation of a perectron model for classifying the bresat_cancer dataset in sklearn.datasets"
      ]
    },
    {
      "cell_type": "markdown",
      "metadata": {
        "id": "mfzNEVGbI0-w",
        "colab_type": "text"
      },
      "source": [
        "#Library_Initialization"
      ]
    },
    {
      "cell_type": "code",
      "metadata": {
        "id": "GAgxFypVgMG9",
        "colab_type": "code",
        "colab": {}
      },
      "source": [
        "import numpy as np\n",
        "import pandas as pd\n",
        "\n",
        "import sklearn.datasets\n",
        "from sklearn.model_selection import train_test_split\n",
        "from sklearn.metrics import accuracy_score\n",
        "\n",
        "import matplotlib.pyplot as plt\n",
        "import seaborn as sns\n",
        "sns.set()\n",
        "\n"
      ],
      "execution_count": 0,
      "outputs": []
    },
    {
      "cell_type": "markdown",
      "metadata": {
        "id": "I8rc4HtFvDQy",
        "colab_type": "text"
      },
      "source": [
        "#Basic_Model_Class"
      ]
    },
    {
      "cell_type": "code",
      "metadata": {
        "id": "lcKZOyGohyCd",
        "colab_type": "code",
        "colab": {}
      },
      "source": [
        "breast_cancer=sklearn.datasets.load_breast_cancer()"
      ],
      "execution_count": 0,
      "outputs": []
    },
    {
      "cell_type": "code",
      "metadata": {
        "id": "Ves9iI_7iIUW",
        "colab_type": "code",
        "colab": {}
      },
      "source": [
        "X=breast_cancer.data\n",
        "Y=breast_cancer.target"
      ],
      "execution_count": 0,
      "outputs": []
    },
    {
      "cell_type": "code",
      "metadata": {
        "id": "tOauXZMriMM0",
        "colab_type": "code",
        "colab": {}
      },
      "source": [
        "X_train,X_test,Y_train,Y_test=train_test_split(X,Y,test_size=0.1,stratify=Y,random_state=1)"
      ],
      "execution_count": 0,
      "outputs": []
    },
    {
      "cell_type": "markdown",
      "metadata": {
        "id": "LvbpTO0HnbW0",
        "colab_type": "text"
      },
      "source": [
        "No binarization of data is required. Input is simply real numbers and output is in bollean format"
      ]
    },
    {
      "cell_type": "markdown",
      "metadata": {
        "id": "22TgokWjqkfF",
        "colab_type": "text"
      },
      "source": [
        "The perceptron class has four functions.\n",
        "1. initialization of model parameters\n",
        "2. model equation\n",
        "3. predicting the output for a give input\n",
        "4. fitting the model into a given set of input and output by providing the learning algorithm"
      ]
    },
    {
      "cell_type": "code",
      "metadata": {
        "id": "O-h6ImyPmA12",
        "colab_type": "code",
        "colab": {}
      },
      "source": [
        "class Perceptron:\n",
        "\n",
        "  def __init__(self):\n",
        "    self.b=None\n",
        "    self.w=None\n",
        "\n",
        "  def model(self,X):\n",
        "    return 1 if (np.dot(self.w,X)>=self.b) else 0\n",
        "\n",
        "  def predict(self,X):\n",
        "    Y=[]\n",
        "    for x in X:\n",
        "      result=self.model(x)\n",
        "      Y.append(result)\n",
        "    return np.array(Y)\n",
        "\n",
        "  def fit(self,X,Y):\n",
        "    self.b=0\n",
        "    self.w=np.ones(X.shape[1])\n",
        "\n",
        "    for x,y in zip(X,Y):\n",
        "      y_pred=self.model(x)\n",
        "\n",
        "      if y==1 and y_pred==0:\n",
        "        self.b=self.b+1\n",
        "        self.w =self.w+x\n",
        "      elif y==0 and y_pred==1:\n",
        "        self.b=self.b-1\n",
        "        self.w=self.w-x"
      ],
      "execution_count": 0,
      "outputs": []
    },
    {
      "cell_type": "code",
      "metadata": {
        "id": "MzZcqFMunPEj",
        "colab_type": "code",
        "colab": {}
      },
      "source": [
        "perceptron_test=Perceptron()"
      ],
      "execution_count": 0,
      "outputs": []
    },
    {
      "cell_type": "code",
      "metadata": {
        "id": "01-61HSQrd-C",
        "colab_type": "code",
        "colab": {}
      },
      "source": [
        "perceptron_test.fit(X_train,Y_train)"
      ],
      "execution_count": 0,
      "outputs": []
    },
    {
      "cell_type": "code",
      "metadata": {
        "id": "-Lxafu1xrx5S",
        "colab_type": "code",
        "outputId": "00be0002-29ee-44a6-8c6d-90db39828b09",
        "colab": {
          "base_uri": "https://localhost:8080/",
          "height": 34
        }
      },
      "source": [
        "Y_train_pred=perceptron_test.predict(X_train)\n",
        "accuracy=accuracy_score(Y_train_pred,Y_train)\n",
        "print(accuracy)"
      ],
      "execution_count": 0,
      "outputs": [
        {
          "output_type": "stream",
          "text": [
            "0.373046875\n"
          ],
          "name": "stdout"
        }
      ]
    },
    {
      "cell_type": "code",
      "metadata": {
        "id": "lWtp6TJrsjMU",
        "colab_type": "code",
        "outputId": "be77f94e-a3f3-42e7-e45e-4aa4d78e73e3",
        "colab": {
          "base_uri": "https://localhost:8080/",
          "height": 34
        }
      },
      "source": [
        "Y_test_pred=perceptron_test.predict(X_test)\n",
        "accuracy=accuracy_score(Y_test_pred,Y_test)\n",
        "print(accuracy)"
      ],
      "execution_count": 0,
      "outputs": [
        {
          "output_type": "stream",
          "text": [
            "0.3684210526315789\n"
          ],
          "name": "stdout"
        }
      ]
    },
    {
      "cell_type": "markdown",
      "metadata": {
        "id": "BHlnaBkktCFy",
        "colab_type": "text"
      },
      "source": [
        "Here we are seeing that the perceptron model has a low accuracy of approximately 37% on the test data.\n",
        "\n",
        "It could be better by running it for more epochs."
      ]
    },
    {
      "cell_type": "markdown",
      "metadata": {
        "id": "lq_MaVs2u71k",
        "colab_type": "text"
      },
      "source": [
        "#Epochs"
      ]
    },
    {
      "cell_type": "code",
      "metadata": {
        "id": "UwElvJrJvMMk",
        "colab_type": "code",
        "colab": {}
      },
      "source": [
        "class Perceptron_1:\n",
        "\n",
        "  def __init__(self):\n",
        "    self.b=None\n",
        "    self.w=None\n",
        "\n",
        "\n",
        "  def model(self,X):\n",
        "    return 1 if (np.dot(self.w,X)>=self.b) else 0\n",
        "\n",
        "\n",
        "  def predict(self,X):\n",
        "    Y=[]\n",
        "    for x in X:\n",
        "      result=self.model(x)\n",
        "      Y.append(result)\n",
        "    return np.array(Y)\n",
        "\n",
        "\n",
        "\n",
        "  def fit(self,X,Y,epochs=1):       #default #epochs=1\n",
        "    self.b=0\n",
        "    self.w=np.ones(X.shape[1])\n",
        "\n",
        "    accuracy=[]\n",
        "    max_acc=0\n",
        "\n",
        "    for i in range(epochs):\n",
        "\n",
        "      for x,y in zip(X,Y):\n",
        "        y_pred=self.model(x)\n",
        "\n",
        "        if y==1 and y_pred==0:\n",
        "          self.b=self.b+1\n",
        "          self.w =self.w+x\n",
        "        elif y==0 and y_pred==1:\n",
        "          self.b=self.b-1\n",
        "          self.w=self.w-x\n",
        "      accuracy.append(accuracy_score(self.predict(X),Y))\n",
        "      if (accuracy[i]>max_acc):\n",
        "        max_acc=accuracy[i]\n",
        "    \n",
        "    plt.plot(np.array(accuracy))\n",
        "    plt.ylim([0,1])\n",
        "    plt.show()\n",
        "    print('maximum accuracy is:',max_acc)"
      ],
      "execution_count": 0,
      "outputs": []
    },
    {
      "cell_type": "code",
      "metadata": {
        "id": "VluY2g0mv9da",
        "colab_type": "code",
        "colab": {}
      },
      "source": [
        "perceptron_test_1=Perceptron_1()"
      ],
      "execution_count": 0,
      "outputs": []
    },
    {
      "cell_type": "code",
      "metadata": {
        "id": "RBtnSWjWwANC",
        "colab_type": "code",
        "outputId": "ea517e1a-32c8-424c-db1b-326a8114b007",
        "colab": {
          "base_uri": "https://localhost:8080/",
          "height": 290
        }
      },
      "source": [
        "perceptron_test_1.fit(X_train,Y_train,100)"
      ],
      "execution_count": 0,
      "outputs": [
        {
          "output_type": "display_data",
          "data": {
            "image/png": "[encoded data removed]",
            "text/plain": [
              "<Figure size 432x288 with 1 Axes>"
            ]
          },
          "metadata": {
            "tags": []
          }
        },
        {
          "output_type": "stream",
          "text": [
            "maximum accuracy is: 0.927734375\n"
          ],
          "name": "stdout"
        }
      ]
    },
    {
      "cell_type": "code",
      "metadata": {
        "id": "aIeShRVawCa6",
        "colab_type": "code",
        "outputId": "ba2822be-8321-4ab0-f3db-0dd426504770",
        "colab": {
          "base_uri": "https://localhost:8080/",
          "height": 34
        }
      },
      "source": [
        "Y_train_pred=perceptron_test_1.predict(X_train)\n",
        "accuracy=accuracy_score(Y_train_pred,Y_train)\n",
        "print(accuracy)"
      ],
      "execution_count": 0,
      "outputs": [
        {
          "output_type": "stream",
          "text": [
            "0.92578125\n"
          ],
          "name": "stdout"
        }
      ]
    },
    {
      "cell_type": "markdown",
      "metadata": {
        "id": "UxgbGhS9JSY5",
        "colab_type": "text"
      },
      "source": [
        "Here we hve observed that by running the model for 100 epochs the accuarcy inserased to approx. 92.5%."
      ]
    },
    {
      "cell_type": "code",
      "metadata": {
        "id": "5OsPmmM8MlO2",
        "colab_type": "code",
        "outputId": "b1d4d890-c646-4a86-940e-dfb9d31556c8",
        "colab": {
          "base_uri": "https://localhost:8080/",
          "height": 267
        }
      },
      "source": [
        "plt.plot(perceptron_test_1.w)\n",
        "plt.show()"
      ],
      "execution_count": 0,
      "outputs": [
        {
          "output_type": "display_data",
          "data": {
            "image/png": "[encoded data removed]",
            "text/plain": [
              "<Figure size 432x288 with 1 Axes>"
            ]
          },
          "metadata": {
            "tags": []
          }
        }
      ]
    },
    {
      "cell_type": "markdown",
      "metadata": {
        "id": "b8gtZocNJl3W",
        "colab_type": "text"
      },
      "source": [
        "#Check_Points"
      ]
    },
    {
      "cell_type": "markdown",
      "metadata": {
        "id": "d1uGK4bVJo1_",
        "colab_type": "text"
      },
      "source": [
        "With running the model for more epochs, the model parameter w and b are getting updated. But the best w and b are not getting stored. So to store them we use checkpoints."
      ]
    },
    {
      "cell_type": "code",
      "metadata": {
        "id": "TaqTvlMGJ4V-",
        "colab_type": "code",
        "colab": {}
      },
      "source": [
        "class Perceptron_2:\n",
        "\n",
        "  def __init__(self):\n",
        "    self.b=None\n",
        "    self.w=None\n",
        "\n",
        "\n",
        "  def model(self,X):\n",
        "    return 1 if (np.dot(self.w,X)>=self.b) else 0\n",
        "\n",
        "\n",
        "  def predict(self,X):\n",
        "    Y=[]\n",
        "    for x in X:\n",
        "      result=self.model(x)\n",
        "      Y.append(result)\n",
        "    return np.array(Y)\n",
        "\n",
        "\n",
        "\n",
        "  def fit(self,X,Y,epochs=1):       #default #epochs=1\n",
        "    self.b=0\n",
        "    self.w=np.ones(X.shape[1])\n",
        "\n",
        "    accuracy=[]\n",
        "    max_acc=0\n",
        "\n",
        "    for i in range(epochs):\n",
        "\n",
        "      for x,y in zip(X,Y):\n",
        "        y_pred=self.model(x)\n",
        "\n",
        "        if y==1 and y_pred==0:\n",
        "          self.b=self.b+1\n",
        "          self.w =self.w+x\n",
        "        elif y==0 and y_pred==1:\n",
        "          self.b=self.b-1\n",
        "          self.w=self.w-x\n",
        "      accuracy.append(accuracy_score(self.predict(X),Y))\n",
        "      if (accuracy[i]>max_acc):\n",
        "        max_acc=accuracy[i]\n",
        "        ckpw=self.w\n",
        "        ckpb=self.b\n",
        "    \n",
        "    self.w=ckpw\n",
        "    self.b=ckpb##storing the w and b vaulue corresponding to maximum accuracy\n",
        "    plt.plot(np.array(accuracy))\n",
        "    plt.ylim([0,1])\n",
        "    plt.show()\n",
        "    print('maximum accuracy is:',max_acc)"
      ],
      "execution_count": 0,
      "outputs": []
    },
    {
      "cell_type": "code",
      "metadata": {
        "id": "cdvM7984MJaN",
        "colab_type": "code",
        "outputId": "fc9ee37d-c814-4e8a-fe2d-b36a08984771",
        "colab": {
          "base_uri": "https://localhost:8080/",
          "height": 290
        }
      },
      "source": [
        "perceptron_test_2=Perceptron_2()\n",
        "perceptron_test_2.fit(X_train,Y_train,100)\n"
      ],
      "execution_count": 148,
      "outputs": [
        {
          "output_type": "display_data",
          "data": {
            "image/png": "[encoded data removed]",
            "text/plain": [
              "<Figure size 432x288 with 1 Axes>"
            ]
          },
          "metadata": {
            "tags": []
          }
        },
        {
          "output_type": "stream",
          "text": [
            "maximum accuracy is: 0.927734375\n"
          ],
          "name": "stdout"
        }
      ]
    },
    {
      "cell_type": "code",
      "metadata": {
        "id": "eklDpBpFs1GS",
        "colab_type": "code",
        "outputId": "b3e5e1b2-295b-4ad2-87a8-2ff78bc7b5bb",
        "colab": {
          "base_uri": "https://localhost:8080/",
          "height": 267
        }
      },
      "source": [
        "plt.plot(perceptron_test_2.w)\n",
        "plt.show()"
      ],
      "execution_count": 149,
      "outputs": [
        {
          "output_type": "display_data",
          "data": {
            "image/png": "[encoded data removed]",
            "text/plain": [
              "<Figure size 432x288 with 1 Axes>"
            ]
          },
          "metadata": {
            "tags": []
          }
        }
      ]
    },
    {
      "cell_type": "code",
      "metadata": {
        "id": "2-qIUKCmNUJO",
        "colab_type": "code",
        "outputId": "c4fc3fac-1f9f-4868-982c-a2b087e414e1",
        "colab": {
          "base_uri": "https://localhost:8080/",
          "height": 267
        }
      },
      "source": [
        "plt.plot(perceptron_test_2.w,'r-',perceptron_test_1.w,'b-')\n",
        "plt.show()"
      ],
      "execution_count": 150,
      "outputs": [
        {
          "output_type": "display_data",
          "data": {
            "image/png": "[encoded data removed]",
            "text/plain": [
              "<Figure size 432x288 with 1 Axes>"
            ]
          },
          "metadata": {
            "tags": []
          }
        }
      ]
    },
    {
      "cell_type": "markdown",
      "metadata": {
        "id": "_1MMVG5LN16n",
        "colab_type": "text"
      },
      "source": [
        "It can be seen from the figure that the w values of the best fit model is varied from the w values of the model at 100th epoch"
      ]
    },
    {
      "cell_type": "markdown",
      "metadata": {
        "id": "iT-9ESZRL-kX",
        "colab_type": "text"
      },
      "source": [
        "#Learning_Rate"
      ]
    },
    {
      "cell_type": "code",
      "metadata": {
        "id": "H7OLt6qkMBVC",
        "colab_type": "code",
        "colab": {}
      },
      "source": [
        "class Perceptron_3:\n",
        "\n",
        "  def __init__(self):\n",
        "    self.b=None\n",
        "    self.w=None\n",
        "\n",
        "\n",
        "  def model(self,X):\n",
        "    return 1 if (np.dot(self.w,X)>=self.b) else 0\n",
        "\n",
        "\n",
        "  def predict(self,X):\n",
        "    Y=[]\n",
        "    for x in X:\n",
        "      result=self.model(x)\n",
        "      Y.append(result)\n",
        "    return np.array(Y)\n",
        "\n",
        "\n",
        "\n",
        "  def fit(self,X,Y,epochs=1,lr=1):       #default #epochs=1 and lr=1\n",
        "    self.b=0\n",
        "    self.w=np.ones(X.shape[1])\n",
        "\n",
        "    accuracy=[]\n",
        "    max_acc=0\n",
        "    w_matrix=[]\n",
        "\n",
        "    for i in range(epochs):\n",
        "\n",
        "      for x,y in zip(X,Y):\n",
        "        y_pred=self.model(x)\n",
        "\n",
        "        if y==1 and y_pred==0:\n",
        "          self.b=self.b+lr*1\n",
        "          self.w =self.w+lr*x\n",
        "        elif y==0 and y_pred==1:\n",
        "          self.b=self.b-lr*1\n",
        "          self.w=self.w-lr*x\n",
        "      accuracy.append(accuracy_score(self.predict(X),Y))\n",
        "      if (accuracy[i]>max_acc):\n",
        "        max_acc=accuracy[i]\n",
        "        ckpw=self.w\n",
        "        ckpb=self.b\n",
        "      w_matrix.append(self.w)\n",
        "    self.w=ckpw\n",
        "    self.b=ckpb##storing the w and b vaulue corresponding to maximum accuracy\n",
        "    plt.plot(np.array(accuracy))\n",
        "    plt.ylim([0,1])\n",
        "    plt.show()\n",
        "    print('maximum accuracy is:',max_acc)\n",
        "    return np.array(w_matrix)"
      ],
      "execution_count": 0,
      "outputs": []
    },
    {
      "cell_type": "code",
      "metadata": {
        "id": "Ld7G19-Es-ny",
        "colab_type": "code",
        "colab": {
          "base_uri": "https://localhost:8080/",
          "height": 290
        },
        "outputId": "bfbb4dd0-05a2-449a-cd39-2e4c7ee13a2c"
      },
      "source": [
        "perceptron_test_3=Perceptron_3()\n",
        "w_matrix_3=perceptron_test_3.fit(X_train,Y_train,100,0.01)"
      ],
      "execution_count": 171,
      "outputs": [
        {
          "output_type": "display_data",
          "data": {
            "image/png": "[encoded data removed]",
            "text/plain": [
              "<Figure size 432x288 with 1 Axes>"
            ]
          },
          "metadata": {
            "tags": []
          }
        },
        {
          "output_type": "stream",
          "text": [
            "maximum accuracy is: 0.92578125\n"
          ],
          "name": "stdout"
        }
      ]
    },
    {
      "cell_type": "code",
      "metadata": {
        "id": "43rosmdWOaxP",
        "colab_type": "code",
        "colab": {
          "base_uri": "https://localhost:8080/",
          "height": 290
        },
        "outputId": "5dd5f7dc-a1dc-486a-e2a4-c5833ec444a7"
      },
      "source": [
        "w_matrix_3=perceptron_test_3.fit(X_train,Y_train,100,0.0001)"
      ],
      "execution_count": 172,
      "outputs": [
        {
          "output_type": "display_data",
          "data": {
            "image/png": "[encoded data removed]",
            "text/plain": [
              "<Figure size 432x288 with 1 Axes>"
            ]
          },
          "metadata": {
            "tags": []
          }
        },
        {
          "output_type": "stream",
          "text": [
            "maximum accuracy is: 0.92578125\n"
          ],
          "name": "stdout"
        }
      ]
    },
    {
      "cell_type": "markdown",
      "metadata": {
        "id": "yeh6AnwPOoZG",
        "colab_type": "text"
      },
      "source": [
        "Observation 1: With lower learning rate the accuracy doesn't fall to a lowr value anywhere in the entire run\n",
        "\n",
        "Observation 2: Improvement in the accuracy"
      ]
    },
    {
      "cell_type": "markdown",
      "metadata": {
        "id": "p1K0t_CfPE2m",
        "colab_type": "text"
      },
      "source": [
        "**It should be noted that if 'lr' is very low then #epochs ahould be much higher value to cooperate with the learning process.**\n"
      ]
    },
    {
      "cell_type": "markdown",
      "metadata": {
        "id": "JBwU6cSLPy6f",
        "colab_type": "text"
      },
      "source": [
        "#Weight animation"
      ]
    },
    {
      "cell_type": "code",
      "metadata": {
        "id": "Qh_kQbxDP1_i",
        "colab_type": "code",
        "colab": {}
      },
      "source": [
        "%matplotlib inline\n",
        "from matplotlib import animation, rc\n",
        "from IPython.display import HTML"
      ],
      "execution_count": 0,
      "outputs": []
    },
    {
      "cell_type": "code",
      "metadata": {
        "id": "2vXd6AtKRA0-",
        "colab_type": "code",
        "colab": {
          "base_uri": "https://localhost:8080/",
          "height": 290
        },
        "outputId": "1849da11-5975-4483-e813-eba66861a2c8"
      },
      "source": [
        "w_matrix_3=perceptron_test_3.fit(X_train,Y_train,100,0.001)"
      ],
      "execution_count": 205,
      "outputs": [
        {
          "output_type": "display_data",
          "data": {
            "image/png": "[encoded data removed]",
            "text/plain": [
              "<Figure size 432x288 with 1 Axes>"
            ]
          },
          "metadata": {
            "tags": []
          }
        },
        {
          "output_type": "stream",
          "text": [
            "maximum accuracy is: 0.92578125\n"
          ],
          "name": "stdout"
        }
      ]
    },
    {
      "cell_type": "code",
      "metadata": {
        "id": "7VQgPfvbRpjF",
        "colab_type": "code",
        "colab": {
          "base_uri": "https://localhost:8080/",
          "height": 34
        },
        "outputId": "a4789678-160b-42c0-d12b-8f34b1d1840b"
      },
      "source": [
        "w_matrix_3.shape"
      ],
      "execution_count": 206,
      "outputs": [
        {
          "output_type": "execute_result",
          "data": {
            "text/plain": [
              "(100, 30)"
            ]
          },
          "metadata": {
            "tags": []
          },
          "execution_count": 206
        }
      ]
    },
    {
      "cell_type": "code",
      "metadata": {
        "id": "_Q4WJi0ZQBKi",
        "colab_type": "code",
        "colab": {
          "base_uri": "https://localhost:8080/",
          "height": 267
        },
        "outputId": "32532beb-af17-4165-f9db-2e678b94d5f2"
      },
      "source": [
        "fig, ax = plt.subplots()\n",
        "\n",
        "ax.set_xlim(( 0, w_matrix_3.shape[1]))\n",
        "ax.set_ylim((np.min(w_matrix_3)-30, np.max(w_matrix_3)+30))\n",
        "\n",
        "line, = ax.plot([], [], lw=2)"
      ],
      "execution_count": 211,
      "outputs": [
        {
          "output_type": "display_data",
          "data": {
            "image/png": "[encoded data removed]",
            "text/plain": [
              "<Figure size 432x288 with 1 Axes>"
            ]
          },
          "metadata": {
            "tags": []
          }
        }
      ]
    },
    {
      "cell_type": "code",
      "metadata": {
        "id": "mBExzB4gQ37e",
        "colab_type": "code",
        "colab": {}
      },
      "source": [
        "# animation function. This is called sequentially\n",
        "def animate(i):\n",
        "    x = list(range(w_matrix_3.shape[1]))\n",
        "    y = w_matrix_3[i, :]\n",
        "    line.set_data(x, y)\n",
        "    return (line,)"
      ],
      "execution_count": 0,
      "outputs": []
    },
    {
      "cell_type": "code",
      "metadata": {
        "id": "DtyXQwLBS4LN",
        "colab_type": "code",
        "colab": {}
      },
      "source": [
        "# call the animator. blit=True means only re-draw the parts that have changed.\n",
        "anim = animation.FuncAnimation(fig, animate, frames=100, interval=200, blit=True)"
      ],
      "execution_count": 0,
      "outputs": []
    },
    {
      "cell_type": "code",
      "metadata": {
        "id": "eBjLb3uuS7U9",
        "colab_type": "code",
        "colab": {
          "base_uri": "https://localhost:8080/",
          "height": 308
        },
        "outputId": "ed7b1193-1599-476f-fb0a-2f058f7f4af6"
      },
      "source": [
        "HTML(anim.to_html5_video())"
      ],
      "execution_count": 214,
      "outputs": [
        {
          "output_type": "execute_result",
          "data": {
            "text/html": [
              "<video width=\"432\" height=\"288\" controls autoplay loop>\n",
              "  <source type=\"video/mp4\" src=\"data:video/mp4;base64,AAAAHGZ0eXBNNFYgAAACAGlzb21pc28yYXZjMQAAAAhmcmVlAABVhm1kYXQAAAKtBgX//6ncRem9\n",
              "5tlIt5Ys2CDZI+7veDI2NCAtIGNvcmUgMTUyIHIyODU0IGU5YTU5MDMgLSBILjI2NC9NUEVHLTQg\n",
              "QVZDIGNvZGVjIC0gQ29weWxlZnQgMjAwMy0yMDE3IC0gaHR0cDovL3d3dy52aWRlb2xhbi5vcmcv\n",
              "eDI2NC5odG1sIC0gb3B0aW9uczogY2FiYWM9MSByZWY9MyBkZWJsb2NrPTE6MDowIGFuYWx5c2U9\n",
              "MHgzOjB4MTEzIG1lPWhleCBzdWJtZT03IHBzeT0xIHBzeV9yZD0xLjAwOjAuMDAgbWl4ZWRfcmVm\n",
              "PTEgbWVfcmFuZ2U9MTYgY2hyb21hX21lPTEgdHJlbGxpcz0xIDh4OGRjdD0xIGNxbT0wIGRlYWR6\n",
              "b25lPTIxLDExIGZhc3RfcHNraXA9MSBjaHJvbWFfcXBfb2Zmc2V0PS0yIHRocmVhZHM9MyBsb29r\n",
              "YWhlYWRfdGhyZWFkcz0xIHNsaWNlZF90aHJlYWRzPTAgbnI9MCBkZWNpbWF0ZT0xIGludGVybGFj\n",
              "ZWQ9MCBibHVyYXlfY29tcGF0PTAgY29uc3RyYWluZWRfaW50cmE9MCBiZnJhbWVzPTMgYl9weXJh\n",
              "bWlkPTIgYl9hZGFwdD0xIGJfYmlhcz0wIGRpcmVjdD0xIHdlaWdodGI9MSBvcGVuX2dvcD0wIHdl\n",
              "aWdodHA9MiBrZXlpbnQ9MjUwIGtleWludF9taW49NSBzY2VuZWN1dD00MCBpbnRyYV9yZWZyZXNo\n",
              "PTAgcmNfbG9va2FoZWFkPTQwIHJjPWNyZiBtYnRyZWU9MSBjcmY9MjMuMCBxY29tcD0wLjYwIHFw\n",
              "bWluPTAgcXBtYXg9NjkgcXBzdGVwPTQgaXBfcmF0aW89MS40MCBhcT0xOjEuMDAAgAAADJNliIQA\n",
              "E//+97GPgU3IAA2XOop6H+EVsfSQUXqx2aBk6gAAAwAAiYGOFkC1uVpxUAAA4VUd5GXE3YUFBgCQ\n",
              "ilAdSqJ35TSIU7m8kc2Ve55HKf5y18dA6/LrWfGF9JQ6a4DNygbWgkk6tlRWaCEkm3DMLpZZZ6w/\n",
              "34QxZ0+8+JmUeA6D1ZKp4cszOROnEZwlnVqmcplWKJqK+vKYLaCaENGDinBUleTtOXgEO450w9m3\n",
              "y2VgK8F3FpxOgE05VCFAnS/kWkuMcrEPDbDD6SEvY2lEwDSfbdwjZbIIyGzH7asLQlkZzi80lx08\n",
              "4L1q3wK4hF0fqToPwPxI5+3rlW9FvqIra9UTnJa4M7XWx5cYURyLwhG7g8JEDrzhgqbNlbF+Iin+\n",
              "lT0aZT+ijj3l1lfkLGPaBHqdWt/O2SwvdE+q3pt/465AXxHX4ybz76uVGHHcv4kCJQOve8ut3l33\n",
              "ukge7OXCpTdgowGLbiaqqcTjK3JGjScX2sb8NCE//JfIbzrUBNdPX2p4ggpRH65bCzhgRfes9V5A\n",
              "a0D+xo+l4C/6wHT9dhc4UaU1pFdgn+t1TZ7NP8yyhwNITOMzPznQYBMo28qkCBLFooViCnLYeGH1\n",
              "u+zHeeEgzbc4hPb4iQ5jIADLJj71zqQayEYY5fxws+/6MhW34Q3K1kx1aLFHw7VSEn9oiFizts5J\n",
              "Ar8NayOMItWikZSA7WAyJloC866oVgN+j18AJyeBYAJF3Uu625aVidppK9bXVuo0J/EC8990/yuN\n",
              "VrBeMOJ63kp9Ny5lPVNQ630irdEnn0A34zEb3FXFyH2gQpB4Za2fzYwm1eZKkIz8pdT/N6+zq7wX\n",
              "ZIX7eyvAq7CIttqVLSmPvbPktf/+F99keZAClDXrFNL/hXHRqEF6a9MAKgev+1rVrZQW89ARNlTn\n",
              "cRyhQrnjleaWo/LTmza0AuXp2qKuQIhZoL8MAtn/mTjg2I+q4arvhl18ZQmWjfLDAhOMXCtevn5G\n",
              "lKILRwBE7/B4KbOQ8ywkC7OJLbdywzJJiOO0ZRM6Mj5X2KeCHobVnpbxRjihFS8xI3TRzdb0iwpF\n",
              "CxJmm5H8Wq8IfvrVRYD1VowR+dHrFv2eRhOVo4wmqHlQk2DIMxtusUdtFJDOXnASqlckGCOrgyVb\n",
              "0yirPr+pRHEIy9bIc31ifyZW/gyPNbZSu00kHj+TsiNUAOQSYJ54Ro99/wLj3gNXoVLqNmc+dqhL\n",
              "+tbYT9rOttRtjPwbggTDgX1TlqL5U43xVVvYqdTf22qq8+EBulJIBww/GgHYfrlmzQ+FnDS7/icB\n",
              "yLBmdjF80HeoBL8A5E117ETA/zZ4Q9kZCsXwA6Htf4hn6AyBWLxgUhmJOzOkFieyU0x5n0H8XAIN\n",
              "4C7D5wBPIBQCXmngnOpleC16M2vigpNN32nTDsgcp34cE9YasMEcFVpb1Rta1158QHXca7kYS2Y/\n",
              "o6sj7pIAkDzbygeEAPhfEiBB70q1kVQChGZ/wH2o5yTPqiXIMtHs/o4CyIjFDf1zPMHXAKfNa0we\n",
              "E0SXDjMZZyFQd6WNkS+iIIpZ1di1LU4B86fn7RIbxDPPzVYA0kVVQfRB0XyNpbziHmP3Plm1nuji\n",
              "Wof6NoyN7Hh8nz6mfIgGUrUdMAvRMCAacgrsO6+o7sZtSv3g3WfDHD+8aQkVEJRePD+givSL5Wg1\n",
              "dx0x4mAF+CYtz0brvYxN+4uMpPDIxaSoh01KXc9z8s0yHe18QqVf/mEQuxHQM1VY4H6w91gk97aQ\n",
              "SpnYOHCzge6PZLfPmArlELKK6ylIKP82eWGfP0AlCQPCtAg3ae7t1TQjNRq70qn/74ERAhoG30EI\n",
              "vcsr/fFKFnl9LRvfzwNDp2hAVMJTCVQim9hlovs9U2WP/zqvN6RQHaigKrD6PuF2mQCPPC7LX+o7\n",
              "RXkkQW7de9ErfsbiG/C1cs5F+RyVCh2Qxq/aOtg2aG7JEVfmofvuKpEoxZQqhPPCsMuvJHk32Jfv\n",
              "/lBrm/Ohf7WsvUHpQWSkaOi03r4jazrbqtNnt00+qOi0HD0r86saD3LrvaDb/QNz04GppxHu6N5+\n",
              "cRFppVPo2wg7n6U67EZV2q43FmQmpeNXfIKqz1PM36RtQ50bBakbF7ENz55/fTP/C5R178+IeljW\n",
              "2/BCio85RwqXIKvp7nlIRFXRhV7mlQvGo00zI7E6eb14Sg1S4XgxPqzeJ7PRPbDpr5qhjb5Iimeo\n",
              "ectUJsr1fgZ3fUX7tq+sy3zpuBj5XZuU9jNX0BDa66AKcF+XdwSeQc/EK/fFAlrvlVKDjwN8aZdi\n",
              "4Y4s9PXIrPqbRFF+rG0MdNhACTOyGcVM7KNRmAfR4Es+e7KwrGdmq+5s2U91S9KbkgXOQtd+XNoe\n",
              "1VAwl30/5SuF6B8yZnolTt0qrxnrBRF3rQsD3aDs0UQhUormU7btE4pdZIXvd98Tl9D/nja24EDA\n",
              "EVOJy88X+J/AKFclsY2J33IZXchD2rr+StjPF6piLPQMn+ZNX3LR9y+3gTh/Ow2PFTrSODDB8+vA\n",
              "iJfg7GGYU1cNBhn6Os0bMpzsirnPQ+RMX6FP7FE5MXOlpzEN7nS+run2rBP4c8oYAnIxzNJaCpQY\n",
              "yVC4f2rFtK6S1hMSwO8hLOpYzhiqWtPHOk+AWd4EsAaL+7QiVCZYTFd18AwXgX1Pwxd37A5aPqfV\n",
              "Dbf1zkvw6489tUzP3JHb9Zvy9E4+D5w3rUWFF+83c+wJch+v8AAIsMJtitoebd2npscXmuVM1Xp0\n",
              "h6L260OGOIZDdhFIsuB0HUeAscj7Ljr0A1+/OEb0PLCFTtmd2zDs9TRdHaIZnvZuaWjzSFcMKYAB\n",
              "3K4666iWeixKW1dX6QyF0D8Rt9OSHN6FNvnDOmHBIlVICuNCqwNVwuABK4jfYsoSRtfQB4YB4/DL\n",
              "ST/FPsLRG6BUdbSc4PTvjzwchZoIdVoDwJKKWZMtvQUgdb/sT1rEPMqPa8ZU/oIGXIOv1OcSVv88\n",
              "ACbUTMt5KvIBQix0TOuCuPl4Tac/7RsAfcCf9X3M4KAGHAMBhchRY/flwA3ZyqCHZOmd9Ll58o1m\n",
              "GIRipLEqUz3F1LPMqmH4c3sJ8Q2LHf45380SCHbGhapkUOJwffpNeR26pQCKnBZUjoxVXF8hQ1au\n",
              "fgy7O0iWUHvWOJau6vqt1ZbuZf4IaVd/JQy08uxyJCoGx47IP2KHyHIgh+CWT6QbD3/ouXAio6qH\n",
              "b+PF10iMLEa7/aLj/Ms7fY2oZuq9e05mOlINlQ6Mma53vOPTlBaYv4R/ZhdAKQ5yvWbQZt1vhn9a\n",
              "9q4FwzmQrLIY31M5ppYpcGII49NAR1D5TwrBqB76vq4NqihlQfif+MDzvpuy5qNTiVBI+yEeCVuX\n",
              "zEvC2vpAVweY/ZI6aGbvPvXE7/aHlxJNpskCBVM2HY6++jU7fntHPrmQ3yr+xa1Sy4P6RwuNufRn\n",
              "qrBPB/o+g1fk96WxS2kzhbqP7yF/zTLr2mfwesuD8CdNDZkuF3znVUDUlejZs6yiS3seo7MuIAQ4\n",
              "Ef2e1AUXmFK0Zh1In5YHr2Vqj8PabBXd/f+w2jbuZEeUhvpWBATtcxc+6/ZfxIcQrnQFVikwiRDW\n",
              "xb8TBYRpfJPiPc33mgc2IQIvS1io2ULiQJUSs/aStpA8fWypnGb207rEbQ1mt31aSQRipBVatjml\n",
              "ASCY5vB4hBqVkIK7QdWoL/KoaJcd+IRyzRRsiIJqPuo9xX9zI+9Y0/Aq/AqjUvo7QHGlELTH8rAS\n",
              "UtapDL0Mh7u92pcASUkEjdqmWNYOEfHbeGzQ2bGnlFf5xky6Y5BEf5lvUPJE+7BggVKQdE3G9h+k\n",
              "FRXmK60Ej71vyO58VX+HwCq2emNPXizQtUY7EqLcU7bWZad/OBbzrq0lAZNgDGsUlDVbGSNl3zmN\n",
              "/EiuhPXxu2M5cV0M4E/0xPlOnXqkIRcBM1rvMl6urPqUmrldemJrXEaY45EcRDwtcR2vzQfJYvaQ\n",
              "cdT+vcRKweXI3SGg2A2NJaYe1chxojbQtTH5Y3p86eoXTR5/GKfRfwCScEIYMgmSxRPjVQn+MnIQ\n",
              "tEmHGJy2sBpvdGqJdJ4tZGKB4iFAQEIIj8zbZuYU66mUeZLTmjClSlvnN3Ay2vNRdwSmtsq243YQ\n",
              "Diue3L36ljNxsA1bdVbv6WpcRHPU9oMX/pLJHs8ZS1h8QKKqqrQ22LEzYPInzh5+8GtecExmP/s/\n",
              "GRNj+uNP3iHvr4AMUs0AbCWpXH2AnkqMPj2HDhWGmON/PQRvzTPqJLnUYG3WRSp7/13DE/0PyxKp\n",
              "SeiTopELnYR+wgsVCRr0eefbrx6NZhsAAAIyQZohbEE//rUqgCKKLcBOL7zcjqY7LlHm/F52FEcu\n",
              "2fXQhPKVurCSEm+V64jo0pwZkFz5Dj77F4U7wEP7+EX+o3OKguSXhW6uaXnm8NkGOHSS6bwt+KqV\n",
              "s4sFPm9UyH421W80Uh+lVvmdyr41HIX3pyGikOGBIwt9tDbe8ZUS5n83bSa/7Wd1i5fQ3efs41JY\n",
              "V7KrCbKGCEdaXfRXprmucBnpFh2VKZmASoE8bzw6GTTPBmgHIp58UG4eqIsDsdHNahqbBrGRJCxA\n",
              "IYkYseC6/L3A9CPutA36aZIT5104DMz7/dzBq2qN165ngIAJB+6UQNurCO3/+q93aYE4jt7ed1qE\n",
              "C6e2POSYS1FE2TscXEXGcEGLhIC0uuQHA3SYbNr20SqNiFW1QQtHCMT9igqFkSFNa+IFB8y3CNKY\n",
              "9QbNj2tSSEddiZ/gECdDYZ7w4bzLRv/JUceg4e7mArJYD6zmD/WfETmH1zGdxv54/I2TWcLwXCqo\n",
              "0AKK3q7y1xpuiHmtCC+IucTWpQmEI2wGnLCXBp1/eeBHI1lb25P78+8kh0Fo9Mj6rVtlU3uNvCch\n",
              "N/OH37CJcPYwmMEHEyaW6OmZ/+wh2A8gyVElpuZ/YFatLmCqlH0Stgl8qBRcEdfsO8XgCP2vSvXb\n",
              "XyK5kkRVDwiSfA2JvAhWHoPZzCkoBoXS/i9gpyKigZZe5cskZQQU9ZMaCXJ0JYt9JNV3h9jtALfE\n",
              "Bnntjxdn/qXIGqWQRLarLIB03wAAA49BmkU8IZMphBP//rUqgCKDvRoQwRsl8dP4Jzgm87E2h/if\n",
              "6V1JBDrK/GlZwJM+3f9FKHVLSxGQ5RBOIAXZydQvlsMiEjw7r+hFCJlpHuwUdWckL14DINeoBL8M\n",
              "o8TXDNEej+p2+o9RsByrt3vJBjEQN+HRsG1uF/iltQwAa4YHRx5/El9vqGRFQ2X3Xs9x4V0yrfWY\n",
              "Do+WCWkKYQBZnzT1cgHpFrwb3oVT5GJwWkK3bo4fW7qlTfFDlGC/N0W3/+07mVeqhn/e1WtlQYHo\n",
              "zESbyvH2RTr+QqZHk/HyeZF4tRAgJVWYtpeE8IkLnNHoMyaCyPXG5GZdnUVKIgewGCeQ4Hsx3j9p\n",
              "g+gIIW3jlt7qez3ObHW0QdsuWVKgp8WL4NnJoGAEAU04xhnORBY0oW9tAYVnOYUBwG8dyRossVRq\n",
              "FATDkfiYmguG2SEYAyt2oWmIhpPVIpkvcLCZzls4aSGkDA2WGw0CddMKA6suNVpy9ca8JWQ9lIme\n",
              "s5BNc/U6wr3zFIxiJUZkA3lNW4hVr4pQl3lMFS3TyQkPCrFR5XsedvrlwhF2J5BmR5NXY9iZjH1E\n",
              "+59ePwIsr4WFRBoPSie1rT+qIcg1Kweby+OZSs30nGdoc+7jLYu4iKeyzVZyEia6v0L2tgPTLiYG\n",
              "Eq6UTe+YB4vveOlp+3nk5xdor9aoIj0rqnO0HER5uO6GBBZX5TtAGHo1ssF7skNxVi0ZSfjt8GC+\n",
              "Ab61i188ZppZULQ3/Do0S/XvOSu00MBDBuXyNgto6Y8+g1RcrV+VsncdWqgR8Zb/Os08/3fHDkKu\n",
              "aZWY0Nkr9J6jyXx9eiPTCVpHk915R7YEw/AZ5rvny9xt4TTiB4oNOQ3SqSzg5uF1SULqpOr5Mp0s\n",
              "iy8zkcepp89ZMB65hD6IOs+VwBimaaYALT+gKNjCt2LAZmC987nMYle9tPaB/PnqlGcgZVuEteov\n",
              "EuNBEfNj8lGORHWSRfGJ1H6OB14bjXIQAMPTH9IWZej3wkojlhF9TvB+EwOzp/ois7OprCbS7IgI\n",
              "Wb8tqEKEtxaRp1BnNPdbYd1niCbNkDRmBepO7edytsBXNWe/O8dswcbfyZ0iSr30up4ovrhMqJOB\n",
              "yKq67+NDB7pRJGCxRXPCzgvBEXwi1igmhaXdVdQmXWTBS0YTy9o55OYfYggLCfX4+4bH4iXj673t\n",
              "/zpoA/85aeR1KfMibK5FQfvmayAqYQAAAMxBnmNqU8EPAACKa/P9MAAbmwp64KlGJ+PkiD0YCPWp\n",
              "+pgUpUTO/W9ABLYNFUANwKIX3kYK+ZGjVZPvCrPz9Z2/AsITNbE2TkCArnfUEFxSwTouStA7rJRS\n",
              "AeN6KTaBdNiekVeLtkC7Ojf+779gt21xFZ5hMmTLUoCRAZ6+FF2p1h6l5qpTlJH5wJ9eQyGC3S3j\n",
              "ytC1351liEX+HmuhNZsmes+Bt0csQjduuakD3Za2u/b7hg5CqxFFDsgSgQqrKOM4Qma6WI+hxkUm\n",
              "cTAAAACVAZ6CdEP/AAE1YnINU+t6yTYNn1Udf0AGknhGEIE6Jcr4sBrQzO8X/F5obRKDNuzefbpc\n",
              "vbUJyvGlZyHVi1mEerri7fxDrfwmWbIdhvYQQkR/N19G4Ah4DsD9LgShvFZ7ckjOXeOZYCTh9Fc4\n",
              "rgwysUqqAokH1FIDAB23bWLUdwfVbhrrzMKlhU93vKBHkeXGhiBo1IEAAABWAZ6EakP/AAE0j1PV\n",
              "nTQAcLggVJiKF+pYDlfYFx8vCjl0VBHxYo8AAAMABZu1gIKmmAfo/VpME43Yny933ugCC+nTjixa\n",
              "wvpPQYn/jehfQrg7BGDpKSEAAAHnQZqHSahBaJlMFPBP//61KoAAbydIfMae9AHSzWS1Ajwhp4VE\n",
              "8QU75rPmUaM4TJRIwnmy5Egd6cp73F1yoGWV2PovWT4oNF/tPM2SdHtphNe4RbQuxb/it338oFGL\n",
              "SEm3a+prlu8A9NeapMmW4hHklNfmLqK5B8iNR1bEIPswdAweVQLL8yoiz6Cwc+BnycO7WnSiTHof\n",
              "F0yrcuuFOs6A6v/oSR6DQRoCKekMMmkWPjTnXqPao7XauelyGeptZCkUvycwcBPpYM7dAShn59ix\n",
              "IGWXxTpt3OEgz5GlmXFZ7g2yGVnmFqk5cZOSpS7Ls1kV4vd0wXWzE9WTOPwS1v2WFHweMQBfJAVS\n",
              "BIRCPukF9ecrlIdWRyQ9w3Lwrl1m1+Erd1GFYcwVZuaDmxY2dYl+jvCoz+qKNRTEkNCetCfqdCi2\n",
              "30CAOZJepyDwzfKf1AYEUCRcFUk5njHYAoEGhnktAf9Kjz03Dpi6CptptwhJdo9efqAxEOzuj4zr\n",
              "QQYw+VjULFDvbrygOfTQuZJqccni/bFP5NzVO8HpmC48hXEb1+lqJSspPLtycRs4Bo5HvzTo2mGR\n",
              "u8sifgIMme2nsSP2tZC2xUzYzS/WjijvDkyXKMU7us/W68nwS1ug9ebTInM+aaSAOd9JVwAAAFgB\n",
              "nqZqQ/8AATQ3dPxbZoAbpu76Yl7tKm54K+djJWsRA8Xsn3chxRfI/86Ha8L6jCC824o/mLkya1rl\n",
              "PQvtXEe8bq77uuRo1fdEw8TZGnKOFy8kXDf49alxAAACsEGaq0nhClJlMCCf//61KoAAb62BOWZO\n",
              "AFaVQUbv1trygBxvByv4AqRNrQkSlg3ggQn043mXMJ2idSpU1EKfLMhuZLH7kVOKtRsPQlMBO9WW\n",
              "/sbe/oOM9NVDde6WTLjKwR64i7HQpc1ZyMwa6OFev2ghQw5nVQtVRkNaq58fXglZl93h0x7lvVLT\n",
              "6oFkoersnW3WOyGEJJKzDyxHtmIvxg1oQm1iLz2ekleP/8uzc/5i/cF17KSBa1gTa84apIlDZ844\n",
              "jIwxbmieVT1/oyKYogOqrSgUtVllhKiw57elcxKA1+PzS7MxteSX7fgkv/68RXpz7AdcHfNeWqpU\n",
              "nh0tUqsu5emyjIragHTyWyxJ5qvCCpsu0m8IpaBnB8xtWaQw7PPtaI5QZD1cqEUTToaXipbJcSmc\n",
              "vD3RkltiQ8Tid61T8hlL+rK3MVoEUuovuh2rFPVi/VPtaMBCWXwTimA1OcYb4zf8CBzOrhk2EUgk\n",
              "6GHf9z9v/681OeyKN5o3AclVmYyWQTPfZn2O+jLU2fagfS5Y8I5i80ii4vJwd/h0LtpIyVedaSED\n",
              "eQFEwv1WbGbZYLRu3Ck7NrLh1F7pGQtC434WbyUxibO+k3+PgrzVLcih0+s9/13xUe4K4nApNNqq\n",
              "l+uZJJXzEgSDhPsUyCvcTARpQX+JcCas66PsGZn7n2N5Zh6yECAzD0kBtl7yp5X4epyOWkx708WX\n",
              "lmkoFe0uMzSQy6byyIqM1cE+TehhFXBxk2AvI3w4+VE7W1Krc/eIWJNBgR+mcLbE25UoiVRVd8kU\n",
              "SxEBQwJxY0kcYR9Yihzv+pLG2334rMSfytRTkd1w154XIvYjjdQwyQOfTUbAZ6bQnmCAJriNYLjr\n",
              "97S8kmGsvrGD8PrDX/+tzlTEJp1DzhqCWVGVGws4TdWYdlWH3jcAAABkQZ7JRTRMEP8AAIpNku72\n",
              "15gA3Mql+RBdqYGEuoOLMkdixf5OPBWYf/ZA9YoI55rrqS9R5ZkEqZMPL00G3w7eUG7in5vedBkA\n",
              "5GElGiXlmzOw4ZjY9vSMb41s6JDtaLDX/xNDwAAAAD8Bnuh0Q/8AATVKXwEYWf0mhsANzATUXJJ7\n",
              "gU1mQw/JCup12ldl879z2j5oAAAiY+z/M3tnpsofgXLJqZe9CrMAAAAiAZ7qakP/AAE1SmYcHWv8\n",
              "HNPFXHYxhNRnvk2Sm1x5G1BTMAAAAa1BmuxJqEFomUwIJ//+tSqAAG+tsm4igCONfyncvDY8Tvat\n",
              "/2FQQeGdefCAhOrabug/Ziha6/7CiogA4yI3fDTPR1VQAp71fpcU9EBaStLYfrwvSRzp6qyxp+jt\n",
              "swzWxHNI4SgJ/aAZYG+zETDoi85MrQ1nBT6hGxC5xz+PZGzs6hQiwe0M5e80ECZgFgz7vV+qkD27\n",
              "egjjlgOtbg+OjKPHikAc8uOJ06GuBFwS/bcqiVXJgpo9w2O3ulW0v1g4YLa80lIzl6W2MFvCULFu\n",
              "9mRnuz4360kNnRA5g9cApn+UNBvhuO4mFifXh+dmaHikoRwRa16yUhdxmGcJerT4pdIgR3MijE78\n",
              "VlUsoglZAAleKvm6iyCi82ZwdR/uDMbRRXlh2BKkPgs1+7I8BCRQwaORO8/16KVrFh7Vn00EvAxS\n",
              "zSAELViF9bVtW35ylTWRDuOXJSiupZEcifmHZ52u73Wdz5gTLD7G4YcRifFhtCRbkOzFiRZhExk3\n",
              "ZAegVmDr1GaD48KpFP9UGwPo0L7kVv+CxA9nFq6+w6ZMxOHQrbaZ+pZRXqdL1FO5cm8/HFQAAAKN\n",
              "QZsQSeEKUmUwIJ///rUqgADfexf8sfxx3RfUeDTM3tn/NVpzPdu21VObFjuru9QCYaDLYBkDoUXJ\n",
              "RX+yWl2mpZ1eiziH+emr+jVRRy7ibaH0DoFmvOyUbCr1uwFZo/+/ikn51OHdN+HkrTVoOQN4wOme\n",
              "7S//BBdPRVMZn8v3NdaoylHtzRAmE8Au2M7Jj2J18/Rby8cntZ5zCvLxGGddldNxKllSgJUNRAVH\n",
              "eyadI2WsXyMpic3RgArNXa0Zz78WKS8/pS8tZVbDxGT2j5knOR6a4Wj5YvTqmXKN5Rm9SVMNWoeE\n",
              "FH4x5Caux1yq3SGENtocN3KNhqV2S218IkcRPk2rqhfFGJBTIhh4QI8+CepWS+mV4bC18RzPasmU\n",
              "NisjkT7RwhFrRzUvv5OW1CQhQ9XOad5kUX5wVFGxVLeAb9l0dNiLuAIH7iBjcTkC+yyGJw2ysyO6\n",
              "nDrNYHyuYrs5l4PnYfa8ZHW75nbosaLw4Eo/d430kgoRIg0CZCu5eCuMEKCQOBApnOylFE6/OAVX\n",
              "bR7CAhhKiw13ZJ9APiBbY8DI9QtcZQ2Y/0BNzuY1kpp53ofxv4g7l/BKY7NGOFaP1UuGk4xeKcHl\n",
              "14QhArMH1LIMIAQbweoXhNNNegxVWtX1ygJBv7ridTzbI30ZT0wWikBLsfwNOV7e/kwPPZRDzKup\n",
              "JlXtBugNYWq3E+IQvWEJbVhQChNp4Hhs0cxywTzvOg+DNp6nG56AwWmYbkCkwd/1fGdqf7njlJ67\n",
              "8pssyJQQmJ1ONGoxMC5eaeyxyn+NiYLMViuk7cZwHjOIFik/EJ4+hps7rl2zq3aDgrDeHWbObQug\n",
              "GMpXNi82o8XCPpl04PvyvmIP/0XlO5bTDPkAAABLQZ8uRTRMEP8AARVD2DSyHdXC8f30cZBu9O6i\n",
              "Aaxsb0qeT9hPVcFZVMsAqoGh6LZDADjgygANdFh2V+mgsO8gAAAG6derR49QQAxZAAAAHAGfTXRD\n",
              "/wABNGIL/aQ+WNvlTavxpKyw/jasqysAAAAsAZ9PakP/AAE0N3fu89G4WGNvLNZyGh6l2fWyE3wA\n",
              "p6Mof9gSxK/vk7TDrZUAAAGHQZtRSahBaJlMCCn//taMsAAcm3YNAAInkoe8GNyO5ATEbE3PQ7BY\n",
              "6/v0faFmWOwYOGVwx//EzcZvuoOtKLusMxO65P5r7nYgikspx4TegRateMjREfuJS2l/fa6ggt6z\n",
              "BfvBhA4Hcl5ZvRAMiHUEnkmdv4cIEQDb0ybypIOQwMp2LProqkdgE+9DcRoN3Ynb6Mc1V8j0aget\n",
              "94UkQP399yM2jRqiytXlWRsfYgy7iMll0SUud9o5K85eIgWEkFSutLXXCdUx7AfxF6isRsTxy6Hm\n",
              "msmCD2olE3nKGw6CND3bY1Jkwt7yEUSVUzdjWp8ChlRvztcionejnqrV438wgGnfzYDQpgc2eHeR\n",
              "Yk95PceFaZ/G8z9g/l7CrGt6jcNG4kmvDR//MtjnHbBNk8x78ec0ZnHBSTSuejOcaqGHfiJaPeQU\n",
              "Tz9Vz0e7PaELu9IahWa0b8vSLgHg5WCYMPJYU/301Lpl2418X8AcEBHQ/6S43BQR7XQPfiQW2osM\n",
              "AAkEblcQFh+SoAAAAqFBm3VJ4QpSZTAgp//+1oywADk129rcANtLeWdvTyOQCSPbv3IOtjWz/8eF\n",
              "+EuYYJ6+MIZ1jlH0TZDHlAQVF747IGLn8JgAEhyIx2uKzZ4L7cqq+xN6NUkX0bgMJuwna1jLjukw\n",
              "zSK4k3vWzLRqWWDdO71WmDRIMViW8zN4DV7AwNMhNpuZkMSYrE2B5oyTOhAh+c+3US/nsfKu6tr9\n",
              "LHEfO63y7KDmqaXdAlMJqQ8XqYzFS2XfTYIhGGTEBZmHrrPfYFAkKOO3NpH6ZZToKg/31KMOSpCX\n",
              "fv6a+8RQekLm9WQM+evTCw4i8aJYnnBXy7wlixAXS1X/E0/KpnPBNXzUcqF0fiBCrJPc9RGiDnfL\n",
              "zHojiYVPj5XpGZXJzTAscfpGFSr8rQgTNACKGNyviLL0zt4LwJ1uT0PDiBOw12xlQ7fLNrmS/I8z\n",
              "kv+zRk4tAR6E1BrEb6ndyXYHIsOeKNxCqwl/5IuMt1xTIo9m1oUm1Lx8B6SWHqq8a7G25OgaSDka\n",
              "Mjo2DRaCKbmtuFoK51SwuRw6JmMqbkbyQDqtFexHPxeKOw8nTskWqlKuQRtpjqjGXGywsTEOsr2e\n",
              "qKfLwAJxN/fT3NCo5bl3gNIdOA4ncUCXX5TSTDw89LreTAKfQGhgBHus1Gf1l+UN6rgMojOcu4i7\n",
              "qBKilGfI3fHv+Zvhhsd1UZC/97YVcEDoHn418Xt2EByB+sr8FUyYjhnLUUkC37JyQsRtFMYcG+NP\n",
              "ztRTvF37hApz3Z/zqPJcJbs0KXmAC6vOeXS+oECY+sIZFFtswUAZApeJBWcoaGOT50oTb081yssC\n",
              "Q+u6MKErMOEXTojdE7YhNqhfI691bGpDh4KRyVnpdNly7QIjdBEIfQjXuJAqkHBjDx0Q5pwdV4XO\n",
              "G1pJAAAASEGfk0U0TBD/AAERyiN+sAAbdbCXdKwixxreRCkq33uqvs+qyG7JaRz6U4cPKS3Plv8r\n",
              "kooJQ+L6BU+nnjQp4qdASfl+sjAPWAAAACMBn7J0Q/8AAmqGx3JQJbADmGSbEmldi+hP9UABQCL9\n",
              "N5orZgAAABcBn7RqQ/8AATNhZKh5sZV3zl1HUiH5YQAAAldBm7lJqEFomUwIKf/+1oywAHHggNvi\n",
              "cZiwDBD2rHccnxF78b0saJGXxf++8X5uis7Xhx9RPp9CPWh8TU174gkjh4hfljoY/hhyS+mxvHHk\n",
              "OwVprl4494DpeXeNkBgzoNVFtCiEO5hB/0sGWn0y+caMARkfqLFzgXQm7s+fobbEGTnD+T5FN21p\n",
              "vJKIoJVhcpGlZwGNoJNpvakWVM08bCHmLp7Pv3qRa2g7RNOxg4VIKGhEy+yt8/bacvdANJ/ln8Ts\n",
              "dVXqaa0OP44eDYUZOGXGTmT22/XSORAgU07EH3kMc+DXmsMlyDoWVsZUVxVBFw0kY9J+nFjYd4U6\n",
              "eKKvzb0ZWjhuWm0/QQhC4NVf21QBspMPz5dOdS5nvKxlFHOcEtqZ7KLfg5eTsFjvawj3kVctt7/x\n",
              "DroJPVo/vTGCEut/0OI8I6tOdhjSfM7HOgODDsFFD8CNvkRsL6GQA5AN/fIrQw6vGIf936M4zVYT\n",
              "OOWT+OgLMO/H69NtMvERT26fHyBPFyRwjoL/IhEbJga3w+2c+YLKKP71N0fAdc5YvSWV32FRlIfZ\n",
              "bXy3t/Bq+8wgcnj5gIuedAmiyCSkhWcJjeoVdnGeK5at+g6mHFQLj3GrDyKlb58zhrZQMH4oJ9Ss\n",
              "A2DLiXY1iAQ+dQw3Oox5lT1jwOCbHvY7AN4YXUeZOon/na6nGtrfdqLN5nosWmQyhJMeJnGe+xaq\n",
              "d1LNR4NDWlWAmIEiSeqLbP3izUIPqM/0UJJlHugah+4JlbgYvI1ityJeu3WcH9Lu73MZZVg78/Oj\n",
              "lYk8qKq2/AAAAD5Bn9dFESwQ/wABFMaHaAFSwWJIVJPk3k5sfUIXgCTFOvFQJGIgOAAccGUMoAAA\n",
              "OysuKGpQLaLYqTC4uuikgQAAABsBn/Z0Q/8AASzjbMNPgDznUA5LtTfUg9RBrYEAAAAQAZ/4akP/\n",
              "AADc+PDIPVcdWAAAAlpBm/1JqEFsmUwIKf/+1oywADk14OC4ATDMmXclEdxyzYw2y8JA4q6wdgkv\n",
              "Qe59JTpgbvQdM24MCeOf5DfHLZEI+OAvWMpbs79sqbZs616YmeurV1cqwKwyBlKuqLTtcxza1+4X\n",
              "o0xbZUs3B6ysimihmUL+dxh3lMtloS8tHbTZVBWWPLyJkEpJ+I1DRJkZZnVYQCjdWRlD8PPj4Tpb\n",
              "13gLM5UqhUaPBTXsv0fqn7OofqdDT+4+bLNno1TyW2djwWaEOJnlxxKL2YmvDcRkkYdKBNdbZC5J\n",
              "zGbHIZdhnza8Pq4ioWiNOd2Rc+wKxE6BgHIxCXAvSchh8yjnIlXrQvIvOPc4M/FDEdvs1m7ZJKNH\n",
              "5QlAVh0/NZWixk2Aqh/ziJEq/LWIQPzZ5FxznYST/KIV3rtj+YbUgjpFzaS4mGReQDl+MEUu2nJR\n",
              "FuS7G7blIhnPfNKExb5tDxH5yEesJH2N5EJWVw9yNJYAjGgWGhLsabHyMu+9cquGgwHf/26+niNS\n",
              "3wWkV8OMarNnq0vmXfk+/59HWJOgk5uKcAdezQIT4wMorGCLMY/tjaZ02AzwVwDVOGFJ1WczRDNp\n",
              "f8K7iRyattbv/YFYtjTK9mcMji3QJLxGTzv61iV1LakaiPxJmwiyQUzhsAWGF9owc1TpfekcseM2\n",
              "eCweh+mWcznguLF+cq/OtTiw4+o3ebvRd2GevbKvcUDCN/GRg59GuLafmqF6rYS9OQNBvygF/1J1\n",
              "3Yeh06PEXD1j888hetelR2z33acf25ZEdOOCuVRt+q2nmOvQ/bvewC6HAtjUgQAAAEBBnhtFFSwQ\n",
              "/wABFJnEQutvPkiGhj4FraSsKGxvdxfAVXQDABagNLXuG1KpRTmkwxQANj8XTXqTnqG2+9t8kK+A\n",
              "AAAAIAGeOnRD/wACagwekKBGms6O7wAKjqMCzbYJusvoGszBAAAAFAGePGpD/wAA0vjvziRY1jRd\n",
              "zZP3AAACFUGaIUmoQWyZTAgp//7WjLAAOTXjoWEAiMo09YZ37s8BxFAYJprks97cQfhsrn/WHcT9\n",
              "wsohO21xvlZg7HTr33/SeacYBdLMEW2BvqgzxoC9ToIK0hZcBHpSCOeFHH2gzY2KNXjU/bMrI0UB\n",
              "ORjOAnjpiJHIQHYQhT9hGMHk23lHSSSIYCjZHC128zqG5CqPMVxIbpxzTUyYi2bpND99jQ3bDep7\n",
              "IZnohkFKWBfKJHOsBn9RkatB/B8cdp9ktN6y3H5MDSXx9bPh5UZs5T9dntwkeRVj2pq/FkZfiqW5\n",
              "6v5tarAQi6WsI674/BYbaoeoH4suPASm/GyIo9PaVQrIqSeaZdGPLq3ZabpGugRhaDwQZYa9PB1z\n",
              "B6JX+QGj7lvQFJVkVD2dAtiYnsP8vf87JQdK1JSUQb2KNwWMb+zXIf0Xo+Aa/IDdSeoj9n9rDUZa\n",
              "PDIwU5FQMMtXkIrWtBvAdkB4DV38qeEhditUMVmSZ/OyV4OuXKtFLzHmct9EpI2K7DcIGpXw90R9\n",
              "7Wt0Ibuwir88twFiZbee/7GpP4CWWgNbjfpFyJ8GYpWcbIX4jQjSVu3sbjdWV0cybuJ8uVCS9CA1\n",
              "jTD6FUHD8n3rrR6CoxShQTT/KgXbOIG8QSuU8kmLu2Lv3D0XFKUdPVE8t+cRyAWSQhR0UltiGemB\n",
              "5dsJ0jjAlD1KhSo5xTwodZoAOh5LaRKUALKAAAAAP0GeX0UVLBD/AAEUmc0h7sk5BSAfh6GoAOsa\n",
              "S4au2uIKQc5nABs2paM/BaKCVPeKQbotJ/ne9bEwWDrewos2YAAAAB0Bnn50Q/8AANLdLOoIt0ya\n",
              "9Vfx//OB/YhsLp2uSQAAABsBnmBqQ/8AAlrR8aUWk3Dgf8XxIjwkVG7mZIAAAAI9QZplSahBbJlM\n",
              "CCn//taMsAA5ETKGRAD5CU/519zbfnkbeKgzrPhWcnZ4lNUZd12CghscxkA6juCJr5TOrBi3gzFg\n",
              "YFhWOtgqUoZG+BvlhCBd/7RN5ifWkh7869WjusCDzMNMK887ScF4gvdmjPqAhT47NdolZA4Kooc9\n",
              "o/Wg1JhYvAclD2p+kbFg5jnGjwRsmfexYgdgv4spW3R1l/IqzQ10Lb/s6ZJcbO+HU5cv75f49xKI\n",
              "kVFi1V/mCe2DrIQxxd+BqpT2BYDgghtfQODZNuVUgIqJn5hXUBtGEymVnM90EvFfTes407dQsNqr\n",
              "WSSZKigeBdHN8fb6QD7Gy9uNtc+d3z+WrbZ4LocBOHfjbTpGDrBZSbkHFTe9t5UMBFWO+g/QX9+Z\n",
              "SMtReKY9Rdu0PGpBp1L71gZwslb0IwMuvGFfVQidzQyvG/+lJYF+pRrB3xg+eVJDsmLgaIP+k8sI\n",
              "WSS680JPv0M9KeRjTbRZmywPCd+CJ3oiKITNcYeo+4OggNFGeh1ceWwqrI9Mlyg3K3SlBPmyA5CS\n",
              "ZTimo1Or/dINePue0+vSnkj7G5QZMt05ZWgQuNkuPGPrwLMlOZM2BKjN+gj4R8I/T1bjkE9jM+yG\n",
              "TU56kPs/0DhmqtsRv4txTcDB5HcAtmDvFAb0gtrrWZXgp6i7bKWJg6WjUu8hsHwthcHgrfVSu1OV\n",
              "n+FDhMCHLWddu21qH5n+ITb82fPE5paTOyqQkOamSUZW1uan6gmOiMuOWh5kY8OHH7ovAAAAMEGe\n",
              "g0UVLBD/AABjgnyuD+3gyoBQwAa1srtjNcdcCqk/qnYZUQCtWvP+ido03TeDEgAAABMBnqJ0Q/8A\n",
              "ADXmStssmdVB35fhAAAAGQGepGpD/wACajSooVAlL5cw1AXYiez0QCsAAAKYQZqpSahBbJlMCCf/\n",
              "/rUqgADeTdvMA2NAEqHv/JyUjf/nNt7fSAXZqfoR31vRkzljZH6+y8RaHnu0N5tlQaQ1LP1sLCX+\n",
              "nBjRX/n6crSElGAet4uzp6eB0Kk7UQYLeO8T5SaRAyzB+GxZ+dP8R2SwbfWrHdOFVRQT81AZ2oop\n",
              "/qteAui68nGNwVfTmCWTvIpaI7pDTT1bRel3UPRejveK3u9wbhOOnVuSriJ1COgq2LJhtYczWfeZ\n",
              "k/Tu7H0EitXZ1ffCOq9b2gfmh1+rBbNn7IQvov40/HEOt3dhtdWU3KeyMxBZ+yAXwsI6sFmW55Dp\n",
              "YAypo7tlE/1OZ37F/McDiJxXZCr8ps4wtbbQcqCgAO2Z4maXGeUtIQQjpebct4qqlxbtI0tmYLUS\n",
              "Ees0xLMNrxPxEPq8vXC7D19HdMpaN+cIfbsHcJ86n5ZADaj3jlGvV9J/IB+ud81l97kIYfthoaMV\n",
              "ZLXsFok/6P0YvhcnA1sFY6bF0T6xcMRMh9u1YFdVkemsWb5Aq/Md99MZxERJha/ZmTW/TWOKW5th\n",
              "v3RK5w4PxUkRA2zEOfKXyEUV/YQgkyRppH7gyHgSxGFhnPGvV1Kzjv1xpR/EJYioy1C5wNHakOhp\n",
              "KdFAYUtNIN77AAolf6kMRdq5851C6aUx/nd+tRMcUUYLMi8Wmj7u6w2GeKfJr9RBOVg8Mo1gXrZ4\n",
              "JP6h9FNrQJ1tvLI24lqocoFJfBJ3qxKxCWDZaiBsRMS7bRy0R2lDb/PtrU6YXYv9a0z+9ZZQy1Xu\n",
              "anqeD2NFtl7blMy+PDzP2Em9yIANIv8zlUxtjieRvz1u5bCGfJBdge5RNIaNgu6l2aXXzNOWZ3yz\n",
              "sf+FDCda94e5FS7tKIbGDZEF8YbKpJ6XgQAAACpBnsdFFSwQ/wABEawwp2PeOhduGIZhZvix/e4r\n",
              "9AaEpAq80Hc0uBWw2YEAAAAXAZ7mdEP/AADc3SijNxiZY+vIPw04UCwAAAAWAZ7oakP/AADc+POZ\n",
              "nGP/ylbdx9Ji0AAAAjBBmuxJqEFsmUwIKf/+1oywADjodvy5IqABp+U/ycFfNW0yLTA4MKF5BnJI\n",
              "139DAEylagdH+GiuH73aV8zabUH2XXmA3w5455K74h1BA8mlZZvAufijJ3WWY5rrcz4EZE3OAKBY\n",
              "tExGgm/el+u1uBaiviTG5/sGE1ZoHc6tN1Mi8pR+VAMsrOqg8CQA+1ei8O1IFJQgiu1vacvjOGr0\n",
              "ikgLhMIjM9eFNZeARFahxzENslwoeCq8C5PaY6QCIbDLdp41NJhyMb6w7wf0UzC7fUfrvYMnJULo\n",
              "PE6gC2sX+2yAt2LDxR2loLU+KExuv5vOVmdnOuGg21MVa7TT/YCpKwtLAzh5V0ARTzXsQ7Q2Ig4k\n",
              "gDeK+L/enaGblMgVM1HsYjbsRCz455KT0IqbVOzAFVjdg0NeoxLTnaifeCX4UIoWf74SlGi3HPYK\n",
              "4xNfZixYAcJO3awFSZEkenxLm33vgQfUd/oKP62mrfrlg+UzqMOcljU4HxO6Yx7/we5j/KW+5wwK\n",
              "1VZI/i2ydI7MBw/WPcC7PMIisGm5XmCCpKr9VBUMCXSY/zFwPcNsis/vqNZ2mE46D8EESz5Id8RV\n",
              "BjSF4ETuyIVN5AwWcY7xYzEUpA0HEJ3ShzUiT85OSPwKKqC3DO4Rrd1T9aNvsqg/7fz+HncUTMBK\n",
              "cB7FdbOASufkAEUPNrexvtVdhDJuPClvcBhE8lrnKdvMo13DugndIRJawJ0urNT3sDBiFAutDzvs\n",
              "wzfC2QAAAB5BnwpFFSwQ/wAAZHVNkiw8j0EuwQII7l9Vk+JZe0YAAAAfAZ8rakP/AADc+OIZy8Rq\n",
              "e5Krw6Uh9u2APzyAdatyfAAAAfFBmzBJqEFsmUwIKf/+1oywADjodvy/aHIAWi0FlVteu/+Q1d83\n",
              "iUIhY68CXh4UGgonynRg92pg9RkWJpQ4iowf+oXnoTSuqGGkQ9k9IJRN66Bt4916Q9SPg3AIpK1P\n",
              "BcxjS/FUcUawhPn595EaY0hPiy6IrfhrQOlxB1jwwZ1keSG+/st5KFYefvHAakT6xo5CnCsTqTU8\n",
              "ZaBPx5xwzaBtBmgBPIEC2E8qLQ4ArKeXxU75rZK4Y9cI+ePzD/ufjv48BRbLLqHzsud2FXJqSxdq\n",
              "2QrRniQCImhVlFpy3AFjcCNXJZWdcvyVrDGqILcd61wPqFnknCov3RwFRul5Yf/KjYXnieLlGGLX\n",
              "W6SZ/ftpoan3h98PNjwBVO4OqhI9FpW4D+urR/b7if9YJfdMv6dpFpY3LyVNfFMoovwAnjAV/j4z\n",
              "3YjP+xVoSuo+6Zyp6O9vqcokcyG4YwC9mT2HwWkkFWYaz+87pclKvPYU3lPFjZjQqCZKDKvTb9kt\n",
              "/Cor2eXfx5FCTY0GarvGOx/am33zJr2CCkD4lr2aCxzLyh1hbA2oznByepMSyrAqgCvBcdz/dHwS\n",
              "JuJHajUvrArjVyAqXW/hrvvXpOHGnoqy41+T/rBSFq01i20cinmvf8PCWbKHAPtKfz2LlliH0B12\n",
              "n7VN6QAAADJBn05FFSwQ/wABFU2qAAGx7ypA/YfRPHfcc4sHbu8EB37hAivxg9eVgf1ESR5YGjbh\n",
              "gQAAACwBn210Q/8AAa+6WPrBOgjKm9Ap+0Q/7GBf/Wr9R5eNjvFJYA+EKLtEEIqKSQAAAAwBn29q\n",
              "Q/8AAAMAVsAAAAI3QZt0SahBbJlMCCn//taMsAA46E55MB0QwBrMsNn01hFT01UfLzu4lvu4pD+b\n",
              "t1wmFZ2xesU2n/dzYK45IaTLxPrKDBLi6fMsJahP8utZ0Hih7bv+7s6MPq9vJAGzaCQOzXkZwao3\n",
              "DkyHSZZ6ludtHhGeS2zf3DbTeYn6+yoBK40+XwqV363YeoPmC1p8H4BOkGQVzjLOjBSdcLEItAfx\n",
              "3n5MOAsS89Q+Gl3hbOu1j0US5mSuYk0d8ws8xxGq35UVNFahtVhayYNpsD2LIABgNZTljP+rs7bp\n",
              "Bg4F84L3el//XxEzuJlzXxOKk0zOjR16nOd10v3AqMu4vP43iz7+pbE2oH5Cd633Fcl7/oNzuwkh\n",
              "RBVENmYfy7EvvueH8Lte4nRlZckp52X0QALeqZYVi4J2RNYmD9lXaa8dNfXHHuUms37jYofe7Eh3\n",
              "0/gWJXk7RrlKuDqwzFFKF4NrUCmJTBKudd4+uikQ9islT6uDqnuHWL4NLkPK21Gl43WO7voPHgWo\n",
              "QrICns/yWmSOc0xFde8M25sxOnNJmu4M8ZEJruqA29DaPOwShe8kshaOI9dqCGvqw9dE8C1Sg5tF\n",
              "Bjr8whcygR7boHaBPDlQPT7+XkIfzjiXnVHsheCsnQiGeRk3ZOnEd8jQBZU1GTP7F7bcrhNrvrLW\n",
              "wVJf8vhCAPsYKwjgzfML+yJFUsPftKIRQzwuqOzERfxUmCiCWzxCsyTsVcNtjc5GJ71O4UwtVbNe\n",
              "iUwwu3OdhmzAAAAAOUGfkkUVLBD/AAERrYBy36XEAAzcXQBSPIL53RdCv3173rScytPd2o1Gnkr+\n",
              "pPlf3PZ7VBUqsu4b0QAAAB8Bn7F0Q/8AAa//0PEgPoQl+2cyeXzgXkVN0YkAHLZgAAAAKQGfs2pD\n",
              "/wACaR20q2AxLqp7mCH/K283mmdK1tsmHhtavFnMYLr7m4acAAACZkGbuEmoQWyZTAgp//7WjLAA\n",
              "OOh3BIi7aoAsbyhKMZv1WKhcNpmI2A5TBsGL+F2o8l/50Q+Dvecv51pDvNbRirpE8NQyXoFpFRXR\n",
              "shMOQcy9Go5lRYfVVC/p7g1rdX95EfvvRt35cbJckLMXFX92qae9ft4UWgtnfLGQ62qmgb1VG+dp\n",
              "986qXy+Nr6RGO6K+Wp69DxQXMgQk4qvI4cXQ/WdSzqmdgtmeJuaELeZPcABYwVKiqgpRdCrjf/BF\n",
              "TulWwjlaEFRIy8fLEtEMQd3WSGr+8oMtaxOWpvqyS+pex4O78VK9HVZGMdTqXbTifG2x+KMXD5lN\n",
              "U+lbUK9mw24opJblx1SUwDFUaEU0A7xxDp8NqgAvWgqpZNd8ARGWIygXAXGo31jjNi6g21oXSmS7\n",
              "JmK7gXY6nKJln6nO2LUADZDN+rlu1fI2THp0Rd7GEwc9vnQtmKiL7Hpph1JYosZubiuKzatWNdSI\n",
              "yPffEk9zSEX/Lr/L7Op9duX1JqhS1M1D6P9cw1hZCAglFUAsCPVYArbP0TjoweyJDzKfIbh01CCH\n",
              "Fbz5+nGk4ux6xAmTw4Rv2upmz3fVyw3TYMFfJzoLAnVRi24bzkLWevL6g6NJmOrK5iJEIFOIeFgF\n",
              "4EvZWfPIwtu09EhY5ciQWucIUu0axw1d0p6DuKgWNmIyDwK6xHAZZFYdOVcJtw+aSUbSkBuTCjl3\n",
              "8FP45Zgv2Bv6HDkBPkvkNQoLEmtGZDuc9+l7dHJLWJgKwFqoaRmECRDkr2MG3fsNuOxwfNXFdhjk\n",
              "LGWXYaT4s+K2iw/5YIccjfbtLUabHgDTsbJjAAAAOUGf1kUVLBD/AAESwgRpZAAbGYt/D5lKbmCr\n",
              "+/ta3jud8DMSz6ntGPtKbSb1jG31k5OJ/vluE2viwAAAAC0Bn/V0Q/8AAmW6fc0OA2aYt/9sXz7P\n",
              "p6QCV+imPRIL0b3UG0OxnAHyYOC4YoMAAAAbAZ/3akP/AAEtg2zoVtWur3xc6iLUW/ifRo7hAAAC\n",
              "BUGb/EmoQWyZTAgp//7WjLAAcjXgjPAIzS6Aa9+56smGyo4ae0FDvYY46NFToh/O3Q6xBHT//ncU\n",
              "0RxLki3aI+XqmW5qGKurzWsziA3ClRtvXmjf+s1xFgSpnwzyYlnB67zf6khue1tNwXnRcOOwl6pk\n",
              "t2/g4//IFEAiyiZ1X2qikZ5C8cUs6zwU5SEwa9GTsPBxv/nT/9F1mr07wqH8GDU3RbClBaCbmovq\n",
              "xeIDU6EquDZoGeN6BwsCfc8nsh2fHBvaBeZS7YGxS32N3E/GIcqo1lKv34GeMaQna60kXeJ3uk7C\n",
              "9W9Mj7c9ghvVct5BCPsbyZcYHb8B+U4zUopsMHxHlklPRjG3usjyiSRkKufjPjbtSCL4M6rHScwc\n",
              "Lfl1O5k0VSF2SvfBwdkErth2HbtV2z3G0QS5h3OaCkGakAKCjOUo5EBgwa8Uk2NNEeKKQdYPbe9p\n",
              "SaAz5Fj4xfQlV0UUfT+RQ3vQbAt4oASSfZVs4D3D36neXKxn08f6L5OCfbAaPKhMlxgDo48uE7KU\n",
              "JXSN3h/o2Jzi/zQ33FaP5pPDG5PPG4WudI6Mq0AHyQ1Sx+2R7d+xzNjdZ769KIoLHec/csTA9ufM\n",
              "ntePmMqGlSE+/9OclFPipPIU/A/NX9LEyYDxuL9yhcYbbq8mIcKVC95neGB1hhiJf1FLQqcsS9bu\n",
              "LH8MdMAAAAAkQZ4aRRUsEP8AAirfnL8ASMcoMPah6oFIJ5S+RbZ3tdaF/koJAAAATwGeOXRD/wAE\n",
              "1XKbK/l8W2J7tcmjxFl+qKA/qAflL5KoALmIyIDWJO1Ku5pJ6QHFrKSMhLUClN/iV5UgHSjXrzZu\n",
              "sHJkQ/KNup1cGPhoEPAAAAA5AZ47akP/AATVPtqTsqQ/y9AYN6agBJMb43em6AFtEZEl08xk3KW8\n",
              "HmdiInZ+i3HB55+fz8Y28FyZAAACLEGaIEmoQWyZTAgp//7WjLAAcjXaFegEJGIuacj3tfph8zUa\n",
              "lBJG5jbNJX7h9DUop8LltVnsRhPK9Xbt/PLCfsSZ6QGpbtENY21tZ1DNScGnH598zJKcl2VaKNfd\n",
              "cc/zHt08iubsj/CwW8LQgV+BfLpj+ljPs/gOm1bR3HzwhQZZR0HwfvKQWphWLSR0kgtqYBTEUcFe\n",
              "1KWy78TnDJh3Xh60zRQ0HGeVkzRrrs384/TFEP1+tAp27I8Mrz8B8ZlAqpH/D1oD/GG5XGH0KMuu\n",
              "+sS5PLh+cpo3vSl1bvcU+HzEdCPqexJdVVQDAX95efNhw0SwHbfhTzhrgbEkwsrPbDhTNRAG2w+g\n",
              "xgBeKyAKT2Nk+6wwTW4+IZROxUl1V2Ku01HtCZusjSRXldSfgBSk+FtWzfFN+QdO5C48elizncq3\n",
              "pn3mNQu2x+JkD/g1bPk2UFuPaQ7Ja8zOElS1sYyZj6Ib0psfUSFLnhbygqkmkcyxT/o7aydndktM\n",
              "cM/40NbrXjBOBmxpl8024M1QZJdTJU7YUTs4RAD3JDRhhEdqu49ouWuBBD6brRxqzJxjURDJBF7u\n",
              "9N4pg+3j4S59sb0lC4fHak/0wvLRa/wYpZWeIz3JwSyVqLIZ0lOcSDkO+nO64FI1p9h7UIW7xl7R\n",
              "AGONnB+htweBa/h7AbZYepeicquhYy2u4Hf/Cs8tJvRX3/4kSyDpfaYvr5PaKEjz/BxuQPppAXdm\n",
              "GUwR7C4f2YEAAAAmQZ5eRRUsEP8AAiQIhuMi+36p2uYHaHnCJSMcni6YaM+hr5rwj7gAAAAbAZ59\n",
              "dEP/AAJahseJ9M9X28b5LfKNacxgP7nwAAAADQGef2pD/wACWtIBwqsAAAIiQZpkSahBbJlMCCn/\n",
              "/taMsAkixTEDEYuZU20gsCS3fgKypMAm7tsMNc1MMwWukXx/3QeU0y10GSgAvR9t13RznzTG2UU8\n",
              "9PWYmLsd1a18q3/pqxDGdJaqp7ozuRA+ldcXFt0xEtLnJmKva/4aNoAJsyiK4Y/IfxBc0vniZj2p\n",
              "9PGOmY26azSvrFpSGnobGdVtrA9MTfKOTZTxODn8WkGJsOkTWaVFOQdUvBkqNCKsygHQKgm2o1ep\n",
              "LBz3AjxYvbaPdjrtg/R2JgVFDyf/NCCQ/onMHqqDg2AGmzqI82z2IgGyAK0dUSdqI1Q2xckxzDFF\n",
              "cmUyLQJWMEr07/TD1/o9ZVqfq3uBnD7GLcARI0q7jE9GYU4QEVefV5eXVu2tGZiLNtQQKzui3KEV\n",
              "mZwE3Iq+kp482SCzhqizx7PlyngH1qDU7KpKeFpMwXjxaa6jkI1JgNeUxJ+l8InruTjQngbrOdJ6\n",
              "39HYHj84inAutb4Dbp52FYhU2D5PZbVRSKg5itHnEE4OAWQl7WQbVe8mQh4aRKyawbYMaZm7+uuQ\n",
              "kSNqYLlt/tCh2zi78FDQPdMF0nR5RGt+H5vm+fPS/f+g/iCfPAVZ762cdjG7XoGVPrKy2pHez3KK\n",
              "3eXDb+/0JYqZmgDXTKqmDcYnncxo+ze1M2OQu8sd40+PEI3Ch6Swo/nn6cteoKhCL2EezNFLWZ8d\n",
              "N2Tp5vTJghs/c79/j6Uh/i5e2OmDAAAAIEGegkUVLBD/AAIqofOPVrXh2xJsl/2ncXEPdScA3PaB\n",
              "AAAAHwGeoXRD/wACWclbvXmm2vyLoaNo7HoiAn65PLx9QkAAAAAiAZ6jakP/AATVpBBvXgZmrWA+\n",
              "cph80neSOuRG8dSpl1ELMQAAAeRBmqhJqEFsmUwIKf/+1oywAHI15QFgDb7Rj+m3zjdKgUYASAyY\n",
              "yZYzUtujngxLaYgWQ1JEPa492qq3EvnhbqxS9IvSbFls6U9Kz4ly4PcMU9eV7xoMYKqqEZpKwk06\n",
              "uKU0kNdnv2C/TW4mo3r+pS1+PMHgAlncEeZQWlT9t0h409g5eUzLbczKs1RinLo8lFu0b9qGQs9s\n",
              "NKwEEav4E7NHsVGQBO3iLCedMHMbeugGZWzDXF1YlMPEuzVVYt0PL7LIf8V2RtA8FOzWyVQ2/+EP\n",
              "uuWm7LS5+mRA/kLUCR/Wn3dKoXpERgBRsAi/pQDmcn6hoK4sMEFUrFVqN2V9CBQO3jcDsIrVQ7Q8\n",
              "wwBH8hR24khdZh2/zGpJiN5j6WGc2XlY4xpLpNqbS8icS5TbcOPGQ8EYvbbYN7CRA4AfN6a4P16G\n",
              "/VJXz2h61JimpObMDXpeE6PFPY3f3Lmc1stFx8xP+n6Lihpa91fp69134BuQzeC2P77pk2W3dWy+\n",
              "xfUnbqKUn//HR8F+EeOO/nRW/99mL0ms/m1+NZZ66vpvQ0w5rImz7gRK7JMtJZFSmG2JOhPxKLFB\n",
              "2lWKfa+unHnSUk25OJ7CkhVG/LQG7Z23xQSPloGuQLo79BjNCfziUezqK5aXTbYxAAAAMEGexkUV\n",
              "LBD/AAIa2yJ+ACw3CBye0GPz2Ie/NkPmAGuJTu/XgwCKwfs5Xy2CzcDEPQAAAB8BnuV0Q/8AAlsZ\n",
              "nfbmo1Tw24tnlm7rmQ0SwtD3UwCnAAAAJAGe52pD/wAE1aP6zfKLPwp1jIx3nZJb7YmlzK16Duqv\n",
              "siMiQAAAAfVBmuxJqEFsmUwIKf/+1oywAHI15RuABLe6bnfMwc3F829kBXeiAylv84pQf8+WIxPO\n",
              "fJsBndG8/87khSsf6EYVMXfpcLPFiHMDaIWsD3z2cgx19RztzpXldSk2H3hJ6ReBAePcyTh1j6+x\n",
              "i9EtJPGCMRWkouP7m8JAm6Kz43Px87lbKEbRHTTAN6VMNhDhe3Jl5q1zB/PjLXa8gJZ7RnR30Jsc\n",
              "XBGVWqROzv4hmLyoLiVuDRJI0zCFVcPpD94ky1q384Pd9hpz5gFyMYVJh/gMBhdJE+nUZF/E7U7q\n",
              "Fr2TOVRZApEEwPZNWCLXyuVHVNluRzrPkK5en44LFstR2AWVBsVQWJvj0uDhfTL6fwLWG+PE7HBa\n",
              "KUQUmfGDdFeuhsWP75VnMZ8gzauFNayDpBaPtU11LxTKG1O+S3xVXL9vkQKdiUD6mTDWz8IInOHC\n",
              "CUP2UKPPfkSjU74TteVZmkhqAtfaFdTC890O/lB/8D9rA3QZO0N70coSp+3ndyBouRTllBA71LQx\n",
              "ky9++odH1cC17cBNqDsTd4py+QgZVv7yOzXKctu4VN/BhaTzHhLJvFNUXBnq7k4FKZPYPuNv4BKk\n",
              "dl9oh9UrM+WuXMBafx7uc3O5PvRml6FWW3SBv6y60duj+K73QhGsAMrYkgaNQECF+VlwsoAAAAAw\n",
              "QZ8KRRUsEP8AAiqbjwmAqQIdiwxl420Un5I1YZ3TGVqPJbnq8oJH522ITjOnMKCBAAAAGgGfKXRD\n",
              "/wABNVya5vnuFcDYkKTF9W/WP5FgAAAAEgGfK2pD/wAE1aQFFGkc/1k2RwAAAhJBmzBJqEFsmUwI\n",
              "Kf/+1oywAHHRSCwaAgAc+aqgIJ35xpDMYQSaXAWFjVhjMbaNNYLa5v+2cujukiJuFOfP5rQ2r1ai\n",
              "ILDYAbeiEh0MbOPDv70EWvmK0roiRk36XMf/BEU/dcgIrETXXCRTMUg0br5kDp4DrVLn45Q4vjQc\n",
              "ixu+zC2c/dh1xBhvpqpbZTNFQJ5iE9vUCLF9hnpknfmYxD1EXddyl0r0YKaa7k6BvBwe295cAHTA\n",
              "rVlgi/o2onjWiFNQQt/D6XRM+XFZXshomeE0qvq3okAJu+8YghL97O4fMigxhFBKU2OgT5y784l7\n",
              "F4iwmJDoAQNGtdAlVrFWvTnf8lNwS/5R7JwtBVkn4sjpL/brBR8CYQ3Z+asK5ENPTrAQnmUTU5+n\n",
              "y7fLnhoBepFjjdjC+mCLxKd0LOznLGpPsyB+7qwtVHgMHiBgZoLk6deNd42NNKzartcPbNfifgo/\n",
              "xsE2wfoMmecRHOsPhE1tBaO7KXFSf6+Dlj7quR7gZV2PD3kcmwfLYO2PA956WFhp841OWNa/2nM2\n",
              "j7JI7d2tHbhzuq5ho4AN0l13je51uE1x/Y+VL1+WZwMRob23XEHrZjTIgl+LYqFBS0eIi5mvcxJB\n",
              "SiVfbnnUsndz0j4cfgGOZCxyS2O+8SlOIzp6Apw2S7GUnJMKnuF5VVFXfgHTmOxMKX+c1bRMBAQX\n",
              "KHKyRmqV8QAAAChBn05FFSwQ/wACGtsj1/FkQUtNTJaCADhRsa1eJV4BLKhnuoT9KAl5AAAAFAGf\n",
              "bXRD/wAA3N0oo8lovLV+ZqhXAAAAMgGfb2pD/wAE1dSdEfu+P/X2ejUoxMS3bmjHtfH09dGoCwcl\n",
              "JwNKNP5wxqH+OcsTruekAAABvUGbdEmoQWyZTAgn//61KoABvpEFD6AC41A7crp2DX/H2LhalGNS\n",
              "/hsMWMI2ESbqZmoTe/GAPmba4Q5+81jqq56ohoxGQ7iIjUZivFoVZyY8Pvxw/vJQVYE7G3uq8qm7\n",
              "SqQS90gOvpwP935EM8cFHyj9cUAbULc3pbZEOjSyK7JmCzyBSBr9y+mqfwZ0JDcy9CA70DTPUAj9\n",
              "tnaXcNbJ7xP0VCbXJo5HspcX/Dxx6O6b9zOB/DiDobsIgsROMXJB9iibA1obDgT7OyX9CE4DWZBc\n",
              "ko3m+gSwnrme2T+TPXWkvAVlWH59aUUg4VElKa2+oeCbLZlHYYQVUpXiQLZkPybAGIbJ46DrHnT/\n",
              "HQRVhbiHkPhoPOn6RBJR6hfFM0l3vsT7lYm582UG6BqEtzQZoo61RGlNiPd3RO+QqrC29UTrAO0c\n",
              "T+HRkC7lUVwvnm/2k2xVi4RTFYqqtkNkqkgQFFr2EHZGsWey875WXZf6/KR8Gjn8ZNAauOSlV3d+\n",
              "1laicAlI/j2FSmx1dOODTO51J5CxXLAaxKaNCP+DxDHPcY1DCwg8G+uQxfEU5zIHGQ+VKUZS1llM\n",
              "LVjkfx7Ed8AAAAAlQZ+SRRUsEP8AAhrbI9ghA8cVLzvphfJa4+3seblEYiF3vCSggQAAABIBn7F0\n",
              "Q/8AANzdKdIBzsOBQiwAAAApAZ+zakP/AATVo/q/0QATELu/RdJ3ZdnHFwPrhYFLpgRecmQaI+Dn\n",
              "ipgAAAF2QZu4SahBbJlMCCf//rUqgAG+t/weXMAdCcSqyDUO1+7P/EshP6TMQx/XR7vbEkEdBLay\n",
              "0zCSvMRSb1z/+0S9LHpv/IIm1a2LjjHZq3G5HMiPSz7z1sJYPK8uZ183OQ19zW5U/gThN2NNnk4B\n",
              "t16klmM6547Aa5FEhI+AFTvRbbTIpU+Tk2H+2f44OJT+kIdIXgUE64bs33onkGyrqormu43nUEYw\n",
              "wfV/j7Zs7VtihRrTVMdAF2J/0RgvV2PQczCvrRHKiOdqksKv8/3kg0SGzH/nx+vIbH7PkUQ3OzeZ\n",
              "KMOV0pZgCdFmuP2AxE7vIIC0kG1NhlrXDToREi5EDsdBOTUD+iQ1kRbmeiPexaGxmZ6x7MbFtqOF\n",
              "lEdHTEKGtltxnM51B/KE8z1n+YXRtjrkPSu7O9yloXufO/JtGBClCzVbCQQu/EyKm8jAcj5a2c6+\n",
              "c0dNQyqTEy2jI0w6prk522bDRsrCxScNuSRh+nbyFqDlC7Gcg/MAAAAtQZ/WRRUsEP8AAinMG0JM\n",
              "ER1lbIWLWGOmu9I6q4UnPGWzxnK4raVIQ6bNwLnTAAAAIQGf9XRD/wABLVywMSvzCyH4VHnebHXt\n",
              "BwRlyknTU3BFwQAAAB0Bn/dqQ/8AANz4+6npYdalVN6wxo0wNhqWgSO7MQAAARNBm/xJqEFsmUwI\n",
              "J//+tSqAAbznFqeQmPDYjwAEXuJsF7OuFEVli+/IK+hWQgKZhi9Kergj/x6EedgRu4VlYbr0JzS3\n",
              "PjGw/qUg2cUuaojT3mJAi7zCQLiJ68CsHsTyRbmMhDSRG5hApb9LaADfgj5QH7VSte4BBxe0Z658\n",
              "yP5jg5E/k1W5uYhxxdNMgfRmh6QIU64RzIKicR/E0DpE/dcba2Z8V1+TbDX9dBxb2b8aElrZns7k\n",
              "COR58fPbMNmZxwDJjvUVmbZvbOoTBCLPXmZ9e0WU0odhaI7qtmRbs+chC01cF/wNK6Nk4CXsvDlP\n",
              "4ss/vF/np5HnM7IthVZCOCeuNTf0J836yrgnfSfnLKjCj7m/bAAAACFBnhpFFSwQ/wACGtsjsLJN\n",
              "fGLgES/S34RDxUiqvB54HpEAAAAUAZ45dEP/AADc3Sioerl0Bn/LZfAAAAAQAZ47akP/AAA1/jya\n",
              "65bycQAAAMxBmiBJqEFsmUwIJf/+tSqAAbyP0n9M3XJHRgPFABx08gvGqwoGrcm9NPhmqDFAeYce\n",
              "mEsTHhSeiwGDr50bTnYyVvfSv7LIR59cOgZh9YpP+eJSVGzNmByuwJ5VzudfHSzSn0pgqsnY7EtZ\n",
              "qDVuJbmu8J+BvPioo+MGthJ0EsoMctKNVpFWmhXkAO1Y6+bXg3OH+SG26NG+BtGyb9na7sKHygvF\n",
              "nstlnOMQA8KhayNkJQRCkIX01AZrM+eMW6kYOh7VzRPugQfIjc1vLaEAAAA1QZ5eRRUsEP8AAinU\n",
              "xE1DJ3z8A4hIeC/fDdxwAM5MlcPa8iD7/CYTAxfLlo9e3PS4C9xQJEYAAAAjAZ59dEP/AADTBfU3\n",
              "lgCvDFox7AW78T0EMVIwBgtkHmtK82AAAAAfAZ5/akP/AADX7QeoNY/PLlyCTmYDGH8JgyVl5yay\n",
              "iwAAAFNBmmNJqEFsmUwIf//+qZYADZlItefyMXKWAAOGoA7rCYsoOjBt9GRmpVtrWKI3bsPTye1k\n",
              "lVWnhBaQkQNBKtngtmgjxi1asy8MTfmQ9wB69qAUkAAAACVBnoFFFSwQ/wACGtsj2AV4Er0WxV4a\n",
              "7ow5tB8mQYWnochW+QrZAAAAFwGeompD/wACWwbO1bwzzC6sRVcmlFmAAAAHxm1vb3YAAABsbXZo\n",
              "ZAAAAAAAAAAAAAAAAAAAA+gAAE4gAAEAAAEAAAAAAAAAAAAAAAABAAAAAAAAAAAAAAAAAAAAAQAA\n",
              "AAAAAAAAAAAAAAAAQAAAAAAAAAAAAAAAAAAAAAAAAAAAAAAAAAAAAAAAAAIAAAbwdHJhawAAAFx0\n",
              "a2hkAAAAAwAAAAAAAAAAAAAAAQAAAAAAAE4gAAAAAAAAAAAAAAAAAAAAAAABAAAAAAAAAAAAAAAA\n",
              "AAAAAQAAAAAAAAAAAAAAAAAAQAAAAAGwAAABIAAAAAAAJGVkdHMAAAAcZWxzdAAAAAAAAAABAABO\n",
              "IAAAEAAAAQAAAAAGaG1kaWEAAAAgbWRoZAAAAAAAAAAAAAAAAAAAKAAAAyAAVcQAAAAAAC1oZGxy\n",
              "AAAAAAAAAAB2aWRlAAAAAAAAAAAAAAAAVmlkZW9IYW5kbGVyAAAABhNtaW5mAAAAFHZtaGQAAAAB\n",
              "AAAAAAAAAAAAAAAkZGluZgAAABxkcmVmAAAAAAAAAAEAAAAMdXJsIAAAAAEAAAXTc3RibAAAALNz\n",
              "dHNkAAAAAAAAAAEAAACjYXZjMQAAAAAAAAABAAAAAAAAAAAAAAAAAAAAAAGwASAASAAAAEgAAAAA\n",
              "AAAAAQAAAAAAAAAAAAAAAAAAAAAAAAAAAAAAAAAAAAAAAAAAABj//wAAADFhdmNDAWQAFf/hABhn\n",
              "ZAAVrNlBsJaEAAADAAQAAAMAKDxYtlgBAAZo6+PLIsAAAAAcdXVpZGtoQPJfJE/FujmlG88DI/MA\n",
              "AAAAAAAAGHN0dHMAAAAAAAAAAQAAAGQAAAgAAAAAFHN0c3MAAAAAAAAAAQAAAAEAAAMYY3R0cwAA\n",
              "AAAAAABhAAAAAgAAEAAAAAABAAAoAAAAAAEAABAAAAAAAQAAAAAAAAABAAAIAAAAAAEAABgAAAAA\n",
              "AQAACAAAAAABAAAoAAAAAAEAABAAAAAAAQAAAAAAAAABAAAIAAAAAAEAABAAAAAAAQAAKAAAAAAB\n",
              "AAAQAAAAAAEAAAAAAAAAAQAACAAAAAABAAAQAAAAAAEAACgAAAAAAQAAEAAAAAABAAAAAAAAAAEA\n",
              "AAgAAAAAAQAAKAAAAAABAAAQAAAAAAEAAAAAAAAAAQAACAAAAAABAAAoAAAAAAEAABAAAAAAAQAA\n",
              "AAAAAAABAAAIAAAAAAEAACgAAAAAAQAAEAAAAAABAAAAAAAAAAEAAAgAAAAAAQAAKAAAAAABAAAQ\n",
              "AAAAAAEAAAAAAAAAAQAACAAAAAABAAAoAAAAAAEAABAAAAAAAQAAAAAAAAABAAAIAAAAAAEAACAA\n",
              "AAAAAgAACAAAAAABAAAoAAAAAAEAABAAAAAAAQAAAAAAAAABAAAIAAAAAAEAACgAAAAAAQAAEAAA\n",
              "AAABAAAAAAAAAAEAAAgAAAAAAQAAKAAAAAABAAAQAAAAAAEAAAAAAAAAAQAACAAAAAABAAAoAAAA\n",
              "AAEAABAAAAAAAQAAAAAAAAABAAAIAAAAAAEAACgAAAAAAQAAEAAAAAABAAAAAAAAAAEAAAgAAAAA\n",
              "AQAAKAAAAAABAAAQAAAAAAEAAAAAAAAAAQAACAAAAAABAAAoAAAAAAEAABAAAAAAAQAAAAAAAAAB\n",
              "AAAIAAAAAAEAACgAAAAAAQAAEAAAAAABAAAAAAAAAAEAAAgAAAAAAQAAKAAAAAABAAAQAAAAAAEA\n",
              "AAAAAAAAAQAACAAAAAABAAAoAAAAAAEAABAAAAAAAQAAAAAAAAABAAAIAAAAAAEAACgAAAAAAQAA\n",
              "EAAAAAABAAAAAAAAAAEAAAgAAAAAAQAAKAAAAAABAAAQAAAAAAEAAAAAAAAAAQAACAAAAAABAAAo\n",
              "AAAAAAEAABAAAAAAAQAAAAAAAAABAAAIAAAAAAEAACAAAAAAAgAACAAAAAAcc3RzYwAAAAAAAAAB\n",
              "AAAAAQAAAGQAAAABAAABpHN0c3oAAAAAAAAAAAAAAGQAAA9IAAACNgAAA5MAAADQAAAAmQAAAFoA\n",
              "AAHrAAAAXAAAArQAAABoAAAAQwAAACYAAAGxAAACkQAAAE8AAAAgAAAAMAAAAYsAAAKlAAAATAAA\n",
              "ACcAAAAbAAACWwAAAEIAAAAfAAAAFAAAAl4AAABEAAAAJAAAABgAAAIZAAAAQwAAACEAAAAfAAAC\n",
              "QQAAADQAAAAXAAAAHQAAApwAAAAuAAAAGwAAABoAAAI0AAAAIgAAACMAAAH1AAAANgAAADAAAAAQ\n",
              "AAACOwAAAD0AAAAjAAAALQAAAmoAAAA9AAAAMQAAAB8AAAIJAAAAKAAAAFMAAAA9AAACMAAAACoA\n",
              "AAAfAAAAEQAAAiYAAAAkAAAAIwAAACYAAAHoAAAANAAAACMAAAAoAAAB+QAAADQAAAAeAAAAFgAA\n",
              "AhYAAAAsAAAAGAAAADYAAAHBAAAAKQAAABYAAAAtAAABegAAADEAAAAlAAAAIQAAARcAAAAlAAAA\n",
              "GAAAABQAAADQAAAAOQAAACcAAAAjAAAAVwAAACkAAAAbAAAAFHN0Y28AAAAAAAAAAQAAACwAAABi\n",
              "dWR0YQAAAFptZXRhAAAAAAAAACFoZGxyAAAAAAAAAABtZGlyYXBwbAAAAAAAAAAAAAAAAC1pbHN0\n",
              "AAAAJal0b28AAAAdZGF0YQAAAAEAAAAATGF2ZjU3LjgzLjEwMA==\n",
              "\">\n",
              "  Your browser does not support the video tag.\n",
              "</video>"
            ],
            "text/plain": [
              "<IPython.core.display.HTML object>"
            ]
          },
          "metadata": {
            "tags": []
          },
          "execution_count": 214
        }
      ]
    }
  ]
}