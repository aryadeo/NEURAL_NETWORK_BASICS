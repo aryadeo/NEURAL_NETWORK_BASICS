{
  "nbformat": 4,
  "nbformat_minor": 0,
  "metadata": {
    "colab": {
      "name": "Perceptron.ipynb",
      "provenance": [],
      "collapsed_sections": [
        "mfzNEVGbI0-w",
        "I8rc4HtFvDQy"
      ],
      "toc_visible": true,
      "include_colab_link": true
    },
    "kernelspec": {
      "name": "python3",
      "display_name": "Python 3"
    }
  },
  "cells": [
    {
      "cell_type": "markdown",
      "metadata": {
        "id": "view-in-github",
        "colab_type": "text"
      },
      "source": [
        "<a href=\"https://colab.research.google.com/github/aryadeo/NEURAL_NETWORK_BASICS/blob/master/Pereptron/Perceptron_detailed.ipynb\" target=\"_parent\"><img src=\"https://colab.research.google.com/assets/colab-badge.svg\" alt=\"Open In Colab\"/></a>"
      ]
    },
    {
      "cell_type": "markdown",
      "metadata": {
        "id": "ZzlRJudrhCWF",
        "colab_type": "text"
      },
      "source": [
        "#Perceptron"
      ]
    },
    {
      "cell_type": "markdown",
      "metadata": {
        "id": "aRntHyx_gszt",
        "colab_type": "text"
      },
      "source": [
        "\n",
        "\n",
        "![Perceptron](https://drive.google.com/uc?id=1MpXnhm2FJkPnjB99HrDIU_IGX1JTGdJ-)"
      ]
    },
    {
      "cell_type": "markdown",
      "metadata": {
        "id": "8aoqwRRQiulu",
        "colab_type": "text"
      },
      "source": [
        "The model equation is:\n",
        "\n",
        "$y=1,\\mbox{if} \\sum_i w_ix_i>=b$\n",
        "\n",
        "$y=0,\\mbox{otherwise}$"
      ]
    },
    {
      "cell_type": "markdown",
      "metadata": {
        "id": "afUF1aR2h6A5",
        "colab_type": "text"
      },
      "source": [
        "Objective: Formation of a perectron model for classifying the bresat_cancer dataset in sklearn.datasets"
      ]
    },
    {
      "cell_type": "markdown",
      "metadata": {
        "id": "mfzNEVGbI0-w",
        "colab_type": "text"
      },
      "source": [
        "#Library_Initialization"
      ]
    },
    {
      "cell_type": "code",
      "metadata": {
        "id": "GAgxFypVgMG9",
        "colab_type": "code",
        "colab": {}
      },
      "source": [
        "import numpy as np\n",
        "import pandas as pd\n",
        "\n",
        "import sklearn.datasets\n",
        "from sklearn.model_selection import train_test_split\n",
        "from sklearn.metrics import accuracy_score\n",
        "\n",
        "import matplotlib.pyplot as plt\n",
        "import seaborn as sns\n",
        "sns.set()\n",
        "\n"
      ],
      "execution_count": 0,
      "outputs": []
    },
    {
      "cell_type": "markdown",
      "metadata": {
        "id": "I8rc4HtFvDQy",
        "colab_type": "text"
      },
      "source": [
        "#Basic_Model_Class"
      ]
    },
    {
      "cell_type": "code",
      "metadata": {
        "id": "lcKZOyGohyCd",
        "colab_type": "code",
        "colab": {}
      },
      "source": [
        "breast_cancer=sklearn.datasets.load_breast_cancer()"
      ],
      "execution_count": 0,
      "outputs": []
    },
    {
      "cell_type": "code",
      "metadata": {
        "id": "Ves9iI_7iIUW",
        "colab_type": "code",
        "colab": {}
      },
      "source": [
        "X=breast_cancer.data\n",
        "Y=breast_cancer.target"
      ],
      "execution_count": 0,
      "outputs": []
    },
    {
      "cell_type": "code",
      "metadata": {
        "id": "tOauXZMriMM0",
        "colab_type": "code",
        "colab": {}
      },
      "source": [
        "X_train,X_test,Y_train,Y_test=train_test_split(X,Y,test_size=0.1,stratify=Y,random_state=1)"
      ],
      "execution_count": 0,
      "outputs": []
    },
    {
      "cell_type": "markdown",
      "metadata": {
        "id": "LvbpTO0HnbW0",
        "colab_type": "text"
      },
      "source": [
        "No binarization of data is required. Input is simply real numbers and output is in bollean format"
      ]
    },
    {
      "cell_type": "markdown",
      "metadata": {
        "id": "22TgokWjqkfF",
        "colab_type": "text"
      },
      "source": [
        "The perceptron class has four functions.\n",
        "1. initialization of model parameters\n",
        "2. model equation\n",
        "3. predicting the output for a give input\n",
        "4. fitting the model into a given set of input and output by providing the learning algorithm"
      ]
    },
    {
      "cell_type": "code",
      "metadata": {
        "id": "O-h6ImyPmA12",
        "colab_type": "code",
        "colab": {}
      },
      "source": [
        "class Perceptron:\n",
        "\n",
        "  def __init__(self):\n",
        "    self.b=None\n",
        "    self.w=None\n",
        "\n",
        "  def model(self,X):\n",
        "    return 1 if (np.dot(self.w,X)>=self.b) else 0\n",
        "\n",
        "  def predict(self,X):\n",
        "    Y=[]\n",
        "    for x in X:\n",
        "      result=self.model(x)\n",
        "      Y.append(result)\n",
        "    return np.array(Y)\n",
        "\n",
        "  def fit(self,X,Y):\n",
        "    self.b=0\n",
        "    self.w=np.ones(X.shape[1])\n",
        "\n",
        "    for x,y in zip(X,Y):\n",
        "      y_pred=self.model(x)\n",
        "\n",
        "      if y==1 and y_pred==0:\n",
        "        self.b=self.b+1\n",
        "        self.w =self.w+x\n",
        "      elif y==0 and y_pred==1:\n",
        "        self.b=self.b-1\n",
        "        self.w=self.w-x"
      ],
      "execution_count": 0,
      "outputs": []
    },
    {
      "cell_type": "code",
      "metadata": {
        "id": "MzZcqFMunPEj",
        "colab_type": "code",
        "colab": {}
      },
      "source": [
        "perceptron_test=Perceptron()"
      ],
      "execution_count": 0,
      "outputs": []
    },
    {
      "cell_type": "code",
      "metadata": {
        "id": "01-61HSQrd-C",
        "colab_type": "code",
        "colab": {}
      },
      "source": [
        "perceptron_test.fit(X_train,Y_train)"
      ],
      "execution_count": 0,
      "outputs": []
    },
    {
      "cell_type": "code",
      "metadata": {
        "id": "-Lxafu1xrx5S",
        "colab_type": "code",
        "colab": {
          "base_uri": "https://localhost:8080/",
          "height": 34
        },
        "outputId": "00be0002-29ee-44a6-8c6d-90db39828b09"
      },
      "source": [
        "Y_train_pred=perceptron_test.predict(X_train)\n",
        "accuracy=accuracy_score(Y_train_pred,Y_train)\n",
        "print(accuracy)"
      ],
      "execution_count": 108,
      "outputs": [
        {
          "output_type": "stream",
          "text": [
            "0.373046875\n"
          ],
          "name": "stdout"
        }
      ]
    },
    {
      "cell_type": "code",
      "metadata": {
        "id": "lWtp6TJrsjMU",
        "colab_type": "code",
        "colab": {
          "base_uri": "https://localhost:8080/",
          "height": 34
        },
        "outputId": "be77f94e-a3f3-42e7-e45e-4aa4d78e73e3"
      },
      "source": [
        "Y_test_pred=perceptron_test.predict(X_test)\n",
        "accuracy=accuracy_score(Y_test_pred,Y_test)\n",
        "print(accuracy)"
      ],
      "execution_count": 109,
      "outputs": [
        {
          "output_type": "stream",
          "text": [
            "0.3684210526315789\n"
          ],
          "name": "stdout"
        }
      ]
    },
    {
      "cell_type": "markdown",
      "metadata": {
        "id": "BHlnaBkktCFy",
        "colab_type": "text"
      },
      "source": [
        "Here we are seeing that the perceptron model has a low accuracy of approximately 37% on the test data.\n",
        "\n",
        "It could be better by running it for more epochs."
      ]
    },
    {
      "cell_type": "markdown",
      "metadata": {
        "id": "lq_MaVs2u71k",
        "colab_type": "text"
      },
      "source": [
        "#Epochs"
      ]
    },
    {
      "cell_type": "code",
      "metadata": {
        "id": "UwElvJrJvMMk",
        "colab_type": "code",
        "colab": {}
      },
      "source": [
        "class Perceptron:\n",
        "\n",
        "  def __init__(self):\n",
        "    self.b=None\n",
        "    self.w=None\n",
        "\n",
        "\n",
        "  def model(self,X):\n",
        "    return 1 if (np.dot(self.w,X)>=self.b) else 0\n",
        "\n",
        "\n",
        "  def predict(self,X):\n",
        "    Y=[]\n",
        "    for x in X:\n",
        "      result=self.model(x)\n",
        "      Y.append(result)\n",
        "    return np.array(Y)\n",
        "\n",
        "\n",
        "\n",
        "  def fit(self,X,Y,epochs=1):       #default #epochs=1\n",
        "    self.b=0\n",
        "    self.w=np.ones(X.shape[1])\n",
        "\n",
        "    accuracy=[]\n",
        "    max_acc=0\n",
        "\n",
        "    for i in range(epochs):\n",
        "\n",
        "      for x,y in zip(X,Y):\n",
        "        y_pred=self.model(x)\n",
        "\n",
        "        if y==1 and y_pred==0:\n",
        "          self.b=self.b+1\n",
        "          self.w =self.w+x\n",
        "        elif y==0 and y_pred==1:\n",
        "          self.b=self.b-1\n",
        "          self.w=self.w-x\n",
        "      accuracy.append(accuracy_score(self.predict(X),Y))\n",
        "      if (accuracy[i]>max_acc):\n",
        "        max_acc=accuracy[i]\n",
        "    \n",
        "    plt.plot(np.array(accuracy))\n",
        "    plt.ylim([0,1])\n",
        "    plt.show()\n",
        "    print('maximum accuracy is:',max_acc)"
      ],
      "execution_count": 0,
      "outputs": []
    },
    {
      "cell_type": "code",
      "metadata": {
        "id": "VluY2g0mv9da",
        "colab_type": "code",
        "colab": {}
      },
      "source": [
        "perceptron_test=Perceptron()"
      ],
      "execution_count": 0,
      "outputs": []
    },
    {
      "cell_type": "code",
      "metadata": {
        "id": "RBtnSWjWwANC",
        "colab_type": "code",
        "colab": {
          "base_uri": "https://localhost:8080/",
          "height": 290
        },
        "outputId": "6b66b926-d04d-4d37-d0aa-25657f47a02c"
      },
      "source": [
        "perceptron_test.fit(X_train,Y_train,100)"
      ],
      "execution_count": 125,
      "outputs": [
        {
          "output_type": "display_data",
          "data": {
            "image/png": "[encoded data removed]",
            "text/plain": [
              "<Figure size 432x288 with 1 Axes>"
            ]
          },
          "metadata": {
            "tags": []
          }
        },
        {
          "output_type": "stream",
          "text": [
            "maximum accuracy is: 0.927734375\n"
          ],
          "name": "stdout"
        }
      ]
    },
    {
      "cell_type": "code",
      "metadata": {
        "id": "aIeShRVawCa6",
        "colab_type": "code",
        "colab": {
          "base_uri": "https://localhost:8080/",
          "height": 34
        },
        "outputId": "4be2e9f3-e990-458e-867b-3c67d7e860cc"
      },
      "source": [
        "Y_train_pred=perceptron_test.predict(X_train)\n",
        "accuracy=accuracy_score(Y_train_pred,Y_train)\n",
        "print(accuracy)"
      ],
      "execution_count": 126,
      "outputs": [
        {
          "output_type": "stream",
          "text": [
            "0.92578125\n"
          ],
          "name": "stdout"
        }
      ]
    },
    {
      "cell_type": "markdown",
      "metadata": {
        "id": "UxgbGhS9JSY5",
        "colab_type": "text"
      },
      "source": [
        "Here we hve observed that by running the model for 100 epochs the accuarcy inserased to approx. 92.5%."
      ]
    },
    {
      "cell_type": "markdown",
      "metadata": {
        "id": "b8gtZocNJl3W",
        "colab_type": "text"
      },
      "source": [
        "#Check_Points"
      ]
    },
    {
      "cell_type": "markdown",
      "metadata": {
        "id": "d1uGK4bVJo1_",
        "colab_type": "text"
      },
      "source": [
        "With running the model for more epochs, the model parameter w and b are getting updated. But the best w and b are not getting stored. So to store them we use checkpoints."
      ]
    },
    {
      "cell_type": "code",
      "metadata": {
        "id": "TaqTvlMGJ4V-",
        "colab_type": "code",
        "colab": {}
      },
      "source": [
        "class Perceptron:\n",
        "\n",
        "  def __init__(self):\n",
        "    self.b=None\n",
        "    self.w=None\n",
        "\n",
        "\n",
        "  def model(self,X):\n",
        "    return 1 if (np.dot(self.w,X)>=self.b) else 0\n",
        "\n",
        "\n",
        "  def predict(self,X):\n",
        "    Y=[]\n",
        "    for x in X:\n",
        "      result=self.model(x)\n",
        "      Y.append(result)\n",
        "    return np.array(Y)\n",
        "\n",
        "\n",
        "\n",
        "  def fit(self,X,Y,epochs=1):       #default #epochs=1\n",
        "    self.b=0\n",
        "    self.w=np.ones(X.shape[1])\n",
        "\n",
        "    accuracy=[]\n",
        "    max_acc=0\n",
        "\n",
        "    for i in range(epochs):\n",
        "\n",
        "      for x,y in zip(X,Y):\n",
        "        y_pred=self.model(x)\n",
        "\n",
        "        if y==1 and y_pred==0:\n",
        "          self.b=self.b+1\n",
        "          self.w =self.w+x\n",
        "        elif y==0 and y_pred==1:\n",
        "          self.b=self.b-1\n",
        "          self.w=self.w-x\n",
        "      accuracy.append(accuracy_score(self.predict(X),Y))\n",
        "      if (accuracy[i]>max_acc):\n",
        "        max_acc=accuracy[i]\n",
        "        ckpw=self.w\n",
        "        ckpb=self.b\n",
        "    \n",
        "    self.w=ckpw\n",
        "    self.b=ckpb##storing the w and b vaulue corresponding to maximum accuracy\n",
        "    plt.plot(np.array(accuracy))\n",
        "    plt.ylim([0,1])\n",
        "    plt.show()\n",
        "    print('maximum accuracy is:',max_acc)"
      ],
      "execution_count": 0,
      "outputs": []
    },
    {
      "cell_type": "code",
      "metadata": {
        "id": "eklDpBpFs1GS",
        "colab_type": "code",
        "colab": {
          "base_uri": "https://localhost:8080/",
          "height": 267
        },
        "outputId": "5316a896-5641-43ba-9a8a-5cbd5f6fbcaa"
      },
      "source": [
        "plt.plot(perceptron_test.w)\n",
        "plt.show()"
      ],
      "execution_count": 35,
      "outputs": [
        {
          "output_type": "display_data",
          "data": {
            "image/png": "[encoded data removed]",
            "text/plain": [
              "<Figure size 432x288 with 1 Axes>"
            ]
          },
          "metadata": {
            "tags": []
          }
        }
      ]
    },
    {
      "cell_type": "code",
      "metadata": {
        "id": "Ld7G19-Es-ny",
        "colab_type": "code",
        "colab": {}
      },
      "source": [
        ""
      ],
      "execution_count": 0,
      "outputs": []
    }
  ]
}