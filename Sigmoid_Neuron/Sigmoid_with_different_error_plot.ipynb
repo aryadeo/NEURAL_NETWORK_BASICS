{
  "nbformat": 4,
  "nbformat_minor": 0,
  "metadata": {
    "colab": {
      "name": "Sigmoid_with_different_error_plot.ipynb",
      "provenance": [],
      "collapsed_sections": [],
      "include_colab_link": true
    },
    "kernelspec": {
      "name": "python3",
      "display_name": "Python 3"
    },
    "widgets": {
      "application/vnd.jupyter.widget-state+json": {
        "006780bb3d4544aa865bcea9116e2323": {
          "model_module": "@jupyter-widgets/controls",
          "model_name": "HBoxModel",
          "state": {
            "_view_name": "HBoxView",
            "_dom_classes": [],
            "_model_name": "HBoxModel",
            "_view_module": "@jupyter-widgets/controls",
            "_model_module_version": "1.5.0",
            "_view_count": null,
            "_view_module_version": "1.5.0",
            "box_style": "",
            "layout": "IPY_MODEL_d9198e168d7d4c35b889dc027b4ecfd8",
            "_model_module": "@jupyter-widgets/controls",
            "children": [
              "IPY_MODEL_592531552cce46368809e12ebe686a3a",
              "IPY_MODEL_b72af63132114649ad8b65528068de1c"
            ]
          }
        },
        "d9198e168d7d4c35b889dc027b4ecfd8": {
          "model_module": "@jupyter-widgets/base",
          "model_name": "LayoutModel",
          "state": {
            "_view_name": "LayoutView",
            "grid_template_rows": null,
            "right": null,
            "justify_content": null,
            "_view_module": "@jupyter-widgets/base",
            "overflow": null,
            "_model_module_version": "1.2.0",
            "_view_count": null,
            "flex_flow": null,
            "width": null,
            "min_width": null,
            "border": null,
            "align_items": null,
            "bottom": null,
            "_model_module": "@jupyter-widgets/base",
            "top": null,
            "grid_column": null,
            "overflow_y": null,
            "overflow_x": null,
            "grid_auto_flow": null,
            "grid_area": null,
            "grid_template_columns": null,
            "flex": null,
            "_model_name": "LayoutModel",
            "justify_items": null,
            "grid_row": null,
            "max_height": null,
            "align_content": null,
            "visibility": null,
            "align_self": null,
            "height": null,
            "min_height": null,
            "padding": null,
            "grid_auto_rows": null,
            "grid_gap": null,
            "max_width": null,
            "order": null,
            "_view_module_version": "1.2.0",
            "grid_template_areas": null,
            "object_position": null,
            "object_fit": null,
            "grid_auto_columns": null,
            "margin": null,
            "display": null,
            "left": null
          }
        },
        "592531552cce46368809e12ebe686a3a": {
          "model_module": "@jupyter-widgets/controls",
          "model_name": "IntProgressModel",
          "state": {
            "_view_name": "ProgressView",
            "style": "IPY_MODEL_551f71bad9b042d894a5b55f22dbaea2",
            "_dom_classes": [],
            "description": "",
            "_model_name": "IntProgressModel",
            "bar_style": "success",
            "max": 1000,
            "_view_module": "@jupyter-widgets/controls",
            "_model_module_version": "1.5.0",
            "value": 1000,
            "_view_count": null,
            "_view_module_version": "1.5.0",
            "orientation": "horizontal",
            "min": 0,
            "description_tooltip": null,
            "_model_module": "@jupyter-widgets/controls",
            "layout": "IPY_MODEL_278c71e7d5864094b84325a5e46f4e64"
          }
        },
        "b72af63132114649ad8b65528068de1c": {
          "model_module": "@jupyter-widgets/controls",
          "model_name": "HTMLModel",
          "state": {
            "_view_name": "HTMLView",
            "style": "IPY_MODEL_f3874d50f8944bdaaaac284114cb1266",
            "_dom_classes": [],
            "description": "",
            "_model_name": "HTMLModel",
            "placeholder": "​",
            "_view_module": "@jupyter-widgets/controls",
            "_model_module_version": "1.5.0",
            "value": "100% 1000/1000 [00:14&lt;00:00, 68.19epoch/s]",
            "_view_count": null,
            "_view_module_version": "1.5.0",
            "description_tooltip": null,
            "_model_module": "@jupyter-widgets/controls",
            "layout": "IPY_MODEL_8d5eae3dd001445798cb4217e4a5308d"
          }
        },
        "551f71bad9b042d894a5b55f22dbaea2": {
          "model_module": "@jupyter-widgets/controls",
          "model_name": "ProgressStyleModel",
          "state": {
            "_view_name": "StyleView",
            "_model_name": "ProgressStyleModel",
            "description_width": "",
            "_view_module": "@jupyter-widgets/base",
            "_model_module_version": "1.5.0",
            "_view_count": null,
            "_view_module_version": "1.2.0",
            "bar_color": null,
            "_model_module": "@jupyter-widgets/controls"
          }
        },
        "278c71e7d5864094b84325a5e46f4e64": {
          "model_module": "@jupyter-widgets/base",
          "model_name": "LayoutModel",
          "state": {
            "_view_name": "LayoutView",
            "grid_template_rows": null,
            "right": null,
            "justify_content": null,
            "_view_module": "@jupyter-widgets/base",
            "overflow": null,
            "_model_module_version": "1.2.0",
            "_view_count": null,
            "flex_flow": null,
            "width": null,
            "min_width": null,
            "border": null,
            "align_items": null,
            "bottom": null,
            "_model_module": "@jupyter-widgets/base",
            "top": null,
            "grid_column": null,
            "overflow_y": null,
            "overflow_x": null,
            "grid_auto_flow": null,
            "grid_area": null,
            "grid_template_columns": null,
            "flex": null,
            "_model_name": "LayoutModel",
            "justify_items": null,
            "grid_row": null,
            "max_height": null,
            "align_content": null,
            "visibility": null,
            "align_self": null,
            "height": null,
            "min_height": null,
            "padding": null,
            "grid_auto_rows": null,
            "grid_gap": null,
            "max_width": null,
            "order": null,
            "_view_module_version": "1.2.0",
            "grid_template_areas": null,
            "object_position": null,
            "object_fit": null,
            "grid_auto_columns": null,
            "margin": null,
            "display": null,
            "left": null
          }
        },
        "f3874d50f8944bdaaaac284114cb1266": {
          "model_module": "@jupyter-widgets/controls",
          "model_name": "DescriptionStyleModel",
          "state": {
            "_view_name": "StyleView",
            "_model_name": "DescriptionStyleModel",
            "description_width": "",
            "_view_module": "@jupyter-widgets/base",
            "_model_module_version": "1.5.0",
            "_view_count": null,
            "_view_module_version": "1.2.0",
            "_model_module": "@jupyter-widgets/controls"
          }
        },
        "8d5eae3dd001445798cb4217e4a5308d": {
          "model_module": "@jupyter-widgets/base",
          "model_name": "LayoutModel",
          "state": {
            "_view_name": "LayoutView",
            "grid_template_rows": null,
            "right": null,
            "justify_content": null,
            "_view_module": "@jupyter-widgets/base",
            "overflow": null,
            "_model_module_version": "1.2.0",
            "_view_count": null,
            "flex_flow": null,
            "width": null,
            "min_width": null,
            "border": null,
            "align_items": null,
            "bottom": null,
            "_model_module": "@jupyter-widgets/base",
            "top": null,
            "grid_column": null,
            "overflow_y": null,
            "overflow_x": null,
            "grid_auto_flow": null,
            "grid_area": null,
            "grid_template_columns": null,
            "flex": null,
            "_model_name": "LayoutModel",
            "justify_items": null,
            "grid_row": null,
            "max_height": null,
            "align_content": null,
            "visibility": null,
            "align_self": null,
            "height": null,
            "min_height": null,
            "padding": null,
            "grid_auto_rows": null,
            "grid_gap": null,
            "max_width": null,
            "order": null,
            "_view_module_version": "1.2.0",
            "grid_template_areas": null,
            "object_position": null,
            "object_fit": null,
            "grid_auto_columns": null,
            "margin": null,
            "display": null,
            "left": null
          }
        }
      }
    }
  },
  "cells": [
    {
      "cell_type": "markdown",
      "metadata": {
        "id": "view-in-github",
        "colab_type": "text"
      },
      "source": [
        "<a href=\"https://colab.research.google.com/github/aryadeo/NEURAL_NETWORK_BASICS/blob/master/Sigmoid_Neuron/Sigmoid_with_different_error_plot.ipynb\" target=\"_parent\"><img src=\"https://colab.research.google.com/assets/colab-badge.svg\" alt=\"Open In Colab\"/></a>"
      ]
    },
    {
      "cell_type": "code",
      "metadata": {
        "id": "eVO3Rdgh8ndr",
        "colab_type": "code",
        "colab": {}
      },
      "source": [
        "import numpy as np\n",
        "import matplotlib.pyplot as plt\n",
        "import seaborn as sns\n",
        "sns.set() \n",
        "import matplotlib.patches as mpatches"
      ],
      "execution_count": 0,
      "outputs": []
    },
    {
      "cell_type": "code",
      "metadata": {
        "id": "hVldd3qxPwxd",
        "colab_type": "code",
        "outputId": "8273cdab-3e61-48f6-91c0-a4286a773b44",
        "colab": {
          "base_uri": "https://localhost:8080/",
          "height": 33
        }
      },
      "source": [
        "from google.colab import drive\n",
        "drive.mount('/content/drive')"
      ],
      "execution_count": 2,
      "outputs": [
        {
          "output_type": "stream",
          "text": [
            "Drive already mounted at /content/drive; to attempt to forcibly remount, call drive.mount(\"/content/drive\", force_remount=True).\n"
          ],
          "name": "stdout"
        }
      ]
    },
    {
      "cell_type": "code",
      "metadata": {
        "id": "DNBlCO3T8yPk",
        "colab_type": "code",
        "colab": {}
      },
      "source": [
        "import pandas as pd"
      ],
      "execution_count": 0,
      "outputs": []
    },
    {
      "cell_type": "code",
      "metadata": {
        "id": "BiPxJGmdb_4-",
        "colab_type": "code",
        "colab": {}
      },
      "source": [
        "my_file=pd.read_csv('/content/drive/My Drive/PadhAI (Download Materials)/mobile_cleaned-1551253091700.csv')"
      ],
      "execution_count": 0,
      "outputs": []
    },
    {
      "cell_type": "code",
      "metadata": {
        "id": "TOkGjAizgDLc",
        "colab_type": "code",
        "colab": {}
      },
      "source": [
        "#let's create X and Y\n",
        "X=my_file.drop('Rating',axis=1)\n",
        "Y=my_file['Rating'].values #type is changed to array just for the sake of convenience"
      ],
      "execution_count": 0,
      "outputs": []
    },
    {
      "cell_type": "code",
      "metadata": {
        "id": "NGhIgElJnvuc",
        "colab_type": "code",
        "colab": {}
      },
      "source": [
        "#alternative way of converting the true false to 1 and 0 respectively.\n",
        "thld=4.2\n",
        "my_file['class']=(my_file['Rating']>thld).astype(np.int)#here the true and false created by threshole value are converted to 1 and 0 respectively by converting there type as int."
      ],
      "execution_count": 0,
      "outputs": []
    },
    {
      "cell_type": "code",
      "metadata": {
        "id": "Q_T6-mlBxnq9",
        "colab_type": "code",
        "colab": {}
      },
      "source": [
        "Y_bin=my_file['class'].values"
      ],
      "execution_count": 0,
      "outputs": []
    },
    {
      "cell_type": "code",
      "metadata": {
        "id": "x2KE1uO876EX",
        "colab_type": "code",
        "colab": {}
      },
      "source": [
        "from sklearn.model_selection import train_test_split\n",
        "from sklearn.preprocessing import StandardScaler,MinMaxScaler"
      ],
      "execution_count": 0,
      "outputs": []
    },
    {
      "cell_type": "code",
      "metadata": {
        "id": "7fmXgl7K8GKK",
        "colab_type": "code",
        "colab": {}
      },
      "source": [
        "X_train,X_test,Y_train,Y_test=train_test_split(X,Y,random_state=0,stratify=Y_bin)"
      ],
      "execution_count": 0,
      "outputs": []
    },
    {
      "cell_type": "code",
      "metadata": {
        "id": "yithA95x2-gn",
        "colab_type": "code",
        "colab": {}
      },
      "source": [
        "Scaler=StandardScaler()"
      ],
      "execution_count": 0,
      "outputs": []
    },
    {
      "cell_type": "code",
      "metadata": {
        "id": "XzEWo_-q6I1Z",
        "colab_type": "code",
        "colab": {}
      },
      "source": [
        "X_train_scaled=Scaler.fit_transform(X_train)\n",
        "X_test_scaled=Scaler.transform(X_test)"
      ],
      "execution_count": 0,
      "outputs": []
    },
    {
      "cell_type": "code",
      "metadata": {
        "id": "p2sEOA7H6wJJ",
        "colab_type": "code",
        "colab": {}
      },
      "source": [
        "min_max_scaler=MinMaxScaler()"
      ],
      "execution_count": 0,
      "outputs": []
    },
    {
      "cell_type": "code",
      "metadata": {
        "id": "cV3m0D89T0OK",
        "colab_type": "code",
        "colab": {}
      },
      "source": [
        "Y_train_scaled=min_max_scaler.fit_transform(Y_train.reshape(-1,1))"
      ],
      "execution_count": 0,
      "outputs": []
    },
    {
      "cell_type": "code",
      "metadata": {
        "id": "4DPRJIOFVl3d",
        "colab_type": "code",
        "colab": {}
      },
      "source": [
        "Y_test_scaled=min_max_scaler.transform(Y_test.reshape(-1,1))"
      ],
      "execution_count": 0,
      "outputs": []
    },
    {
      "cell_type": "code",
      "metadata": {
        "id": "eAgAUMeRV3oq",
        "colab_type": "code",
        "colab": {}
      },
      "source": [
        "thld_scaled=min_max_scaler.transform(np.asarray([thld]).reshape(-1,1))[0][0]"
      ],
      "execution_count": 0,
      "outputs": []
    },
    {
      "cell_type": "code",
      "metadata": {
        "id": "vdSIq1RHWOtp",
        "colab_type": "code",
        "colab": {}
      },
      "source": [
        "Y_bin_train=(Y_train_scaled > thld_scaled).astype(np.int).ravel()#np.ravel() is used to flaten the np array created."
      ],
      "execution_count": 0,
      "outputs": []
    },
    {
      "cell_type": "code",
      "metadata": {
        "id": "6yVapl4xW47a",
        "colab_type": "code",
        "colab": {}
      },
      "source": [
        "Y_bin_test=(Y_test_scaled > thld_scaled).astype(np.int).ravel()"
      ],
      "execution_count": 0,
      "outputs": []
    },
    {
      "cell_type": "code",
      "metadata": {
        "id": "aM6tDchs8Vay",
        "colab_type": "code",
        "colab": {}
      },
      "source": [
        "from sklearn.metrics import accuracy_score,mean_squared_error\n",
        "from tqdm import tqdm_notebook  #to show a progress bar"
      ],
      "execution_count": 0,
      "outputs": []
    },
    {
      "cell_type": "code",
      "metadata": {
        "id": "TXZvGITL5Sc0",
        "colab_type": "code",
        "colab": {}
      },
      "source": [
        "class Sigmoid_Neuron_3:\n",
        "  def __init__(self):\n",
        "    self.w=None\n",
        "    self.b=None\n",
        "  \n",
        "  def perceptron(self,x):\n",
        "    return np.dot(x,self.w.T)+self.b #we have taken the dot product of transpose of Weight matrix and the input vector just to avoid any size mismatch\n",
        "  \n",
        "  def sigmoid(self,x):\n",
        "    return 1.0/(1+np.exp(-x))\n",
        "  \n",
        "  def predict(self,X):\n",
        "    Y_pred=[]\n",
        "    for x in X:\n",
        "      y_pred=self.sigmoid(self.perceptron(x))\n",
        "      Y_pred.append(y_pred)\n",
        "    return np.array(Y_pred)\n",
        "  \n",
        "  def error(self,X,Y):\n",
        "    err=0\n",
        "    # err +=0.5*((self.predict(X)-Y)**2)\n",
        "    for x,y in zip(X,Y):\n",
        "      err += 0.5*((self.sigmoid(self.perceptron(x))-y))**2\n",
        "    return err\n",
        "\n",
        "\n",
        "  \n",
        "  def grad_w(self,x,y):\n",
        "    y_pred=self.sigmoid(self.perceptron(x))\n",
        "    return (y_pred-y)*y_pred*(1-y_pred)*x\n",
        "  \n",
        "  def grad_b(self,x,y):\n",
        "    y_pred=self.sigmoid(self.perceptron(x))\n",
        "    return (y_pred-y)*y_pred*(1-y_pred)\n",
        "  \n",
        "  def fit(self,X,Y,Y_bin_train,epochs=1,lr_rate=1,initialize=True, display_loss=False,show_accuracy=False,thld=0):\n",
        "    if initialize:    #if initialization is required then we will proceed for this otherwise we will proceed with the previous value of w and b\n",
        "      self.w=np.random.randn(1,X.shape[1])\n",
        "      self.b=0\n",
        "      \n",
        "\n",
        "      if display_loss:\n",
        "        loss=[]\n",
        "        loss_1=[]\n",
        "        accuracy_train=[]\n",
        "        \n",
        "        \n",
        "\n",
        " \n",
        "    for i in tqdm_notebook(range(epochs),total=epochs,unit=\"epoch\"):\n",
        "      Y_train_pred=[]\n",
        "      dw=0\n",
        "      db=0\n",
        "      for x,y in zip(X,Y):\n",
        "        dw += self.grad_w(x,y)\n",
        "        db += self.grad_b(x,y)\n",
        "\n",
        "        if show_accuracy:\n",
        "          y_pred=self.sigmoid(self.perceptron(x))\n",
        "          if y_pred>thld:\n",
        "            y_train_pred_bin=1\n",
        "          if y_pred<=thld:\n",
        "            y_train_pred_bin=0\n",
        "          Y_train_pred.append(y_train_pred_bin)\n",
        "     \n",
        "      accuracy_train.append(accuracy_score(Y_bin_train,Y_train_pred))\n",
        "\n",
        "      self.w -=lr_rate*dw\n",
        "      self.b -=lr_rate*db\n",
        "      loss_1.append(self.error(X,Y))\n",
        "\n",
        "\n",
        "\n",
        "\n",
        "      if display_loss:\n",
        "        y_pred=self.sigmoid(self.perceptron(x))\n",
        "        loss.append(mean_squared_error(y_pred,y))\n",
        "       \n",
        "\n",
        "  \n",
        "        \n",
        "    if display_loss:\n",
        "      plt.figure(1)\n",
        "      blue_patch = mpatches.Patch(color='blue', label='loss')\n",
        "      red_patch = mpatches.Patch(color='brown', label='accuracy')\n",
        "      plt.legend(handles=[blue_patch])\n",
        "      plt.plot(np.array(loss),'b-')\n",
        "      # plt.plot(np.asarray(accuracy_train),'r-')\n",
        "      # plt.plot(np.asarray(loss_1),'g-')\n",
        "      plt.xlabel('epochs')\n",
        "      plt.ylabel('mean_squared_error')\n",
        "      plt.show()\n",
        "\n",
        "      plt.figure(2)\n",
        "      green_patch = mpatches.Patch(color='green', label='squared_error_loss')\n",
        "      plt.legend(handles=[green_patch])\n",
        "      plt.plot(np.asarray(loss_1),'g-')\n",
        "      plt.show()\n",
        "\n",
        "      plt.figure(3)\n",
        "      red_patch = mpatches.Patch(color='brown', label='accuracy')\n",
        "      plt.legend(handles=[red_patch])\n",
        "      plt.plot(np.asarray(accuracy_train),'r-')\n",
        "      plt.show()\n",
        "    \n",
        "   "
      ],
      "execution_count": 0,
      "outputs": []
    },
    {
      "cell_type": "code",
      "metadata": {
        "id": "JlcmlhbOv5Jl",
        "colab_type": "code",
        "colab": {}
      },
      "source": [
        "sn_3=Sigmoid_Neuron_3()"
      ],
      "execution_count": 0,
      "outputs": []
    },
    {
      "cell_type": "code",
      "metadata": {
        "id": "wX6R6NkWykZJ",
        "colab_type": "code",
        "outputId": "78b70da4-2d23-4dd1-cd3d-f85731dfdbb4",
        "colab": {
          "base_uri": "https://localhost:8080/",
          "height": 835,
          "referenced_widgets": [
            "006780bb3d4544aa865bcea9116e2323",
            "d9198e168d7d4c35b889dc027b4ecfd8",
            "592531552cce46368809e12ebe686a3a",
            "b72af63132114649ad8b65528068de1c",
            "551f71bad9b042d894a5b55f22dbaea2",
            "278c71e7d5864094b84325a5e46f4e64",
            "f3874d50f8944bdaaaac284114cb1266",
            "8d5eae3dd001445798cb4217e4a5308d"
          ]
        }
      },
      "source": [
        "sn_3.fit(X_train_scaled,Y_train_scaled,Y_bin_train,thld=0.68,epochs=1000,lr_rate=0.01,display_loss=True,show_accuracy=True)"
      ],
      "execution_count": 21,
      "outputs": [
        {
          "output_type": "display_data",
          "data": {
            "application/vnd.jupyter.widget-view+json": {
              "model_id": "006780bb3d4544aa865bcea9116e2323",
              "version_minor": 0,
              "version_major": 2
            },
            "text/plain": [
              "HBox(children=(IntProgress(value=0, max=1000), HTML(value='')))"
            ]
          },
          "metadata": {
            "tags": []
          }
        },
        {
          "output_type": "stream",
          "text": [
            "\n"
          ],
          "name": "stdout"
        },
        {
          "output_type": "display_data",
          "data": {
            "image/png": "[encoded data removed]",
            "text/plain": [
              "<Figure size 432x288 with 1 Axes>"
            ]
          },
          "metadata": {
            "tags": []
          }
        },
        {
          "output_type": "display_data",
          "data": {
            "image/png": "[encoded data removed]",
            "text/plain": [
              "<Figure size 432x288 with 1 Axes>"
            ]
          },
          "metadata": {
            "tags": []
          }
        },
        {
          "output_type": "display_data",
          "data": {
            "image/png": "[encoded data removed]",
            "text/plain": [
              "<Figure size 432x288 with 1 Axes>"
            ]
          },
          "metadata": {
            "tags": []
          }
        }
      ]
    },
    {
      "cell_type": "code",
      "metadata": {
        "id": "IJVZwGMs9GhS",
        "colab_type": "code",
        "colab": {}
      },
      "source": [
        ""
      ],
      "execution_count": 0,
      "outputs": []
    }
  ]
}