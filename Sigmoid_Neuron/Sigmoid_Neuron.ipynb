{
  "nbformat": 4,
  "nbformat_minor": 0,
  "metadata": {
    "colab": {
      "name": "Sigmoid_Neuron.ipynb",
      "provenance": [],
      "collapsed_sections": [],
      "toc_visible": true,
      "include_colab_link": true
    },
    "kernelspec": {
      "name": "python3",
      "display_name": "Python 3"
    }
  },
  "cells": [
    {
      "cell_type": "markdown",
      "metadata": {
        "id": "view-in-github",
        "colab_type": "text"
      },
      "source": [
        "<a href=\"https://colab.research.google.com/github/aryadeo/NEURAL_NETWORK_BASICS/blob/master/Sigmoid_Neuron/Sigmoid_Neuron.ipynb\" target=\"_parent\"><img src=\"https://colab.research.google.com/assets/colab-badge.svg\" alt=\"Open In Colab\"/></a>"
      ]
    },
    {
      "cell_type": "code",
      "metadata": {
        "id": "ZZQGGlN9BmIA",
        "colab_type": "code",
        "colab": {}
      },
      "source": [
        "import numpy as np\n",
        "import matplotlib.pyplot as plt\n",
        "import seaborn as sns\n",
        "sns.set() "
      ],
      "execution_count": 0,
      "outputs": []
    },
    {
      "cell_type": "markdown",
      "metadata": {
        "id": "FUbIYAHP3_2F",
        "colab_type": "text"
      },
      "source": [
        "#PLotting 2D sigmoid"
      ]
    },
    {
      "cell_type": "markdown",
      "metadata": {
        "id": "04XykH4ABrz2",
        "colab_type": "text"
      },
      "source": [
        "The equation ofa sigmoid function is:\n",
        "\n",
        "\n",
        "**$\\sigma_{w,b}(x)=\\frac{1}{1+e^{-wx+ b }}$**"
      ]
    },
    {
      "cell_type": "code",
      "metadata": {
        "id": "YR0c8BS14xTy",
        "colab_type": "code",
        "colab": {}
      },
      "source": [
        "def sig_2D(x,w,b):\n",
        "  return 1/(1+np.exp(-(w*x+b)))"
      ],
      "execution_count": 0,
      "outputs": []
    },
    {
      "cell_type": "code",
      "metadata": {
        "id": "naxY1YzE5P5i",
        "colab_type": "code",
        "outputId": "c08e6aee-d70e-4269-9f5a-1d4ae54b1576",
        "colab": {
          "base_uri": "https://localhost:8080/",
          "height": 34
        }
      },
      "source": [
        "sig_2D(1,2,2)"
      ],
      "execution_count": 3,
      "outputs": [
        {
          "output_type": "execute_result",
          "data": {
            "text/plain": [
              "0.9820137900379085"
            ]
          },
          "metadata": {
            "tags": []
          },
          "execution_count": 3
        }
      ]
    },
    {
      "cell_type": "code",
      "metadata": {
        "id": "_Znv5xba5Uqi",
        "colab_type": "code",
        "outputId": "ce369455-334f-482e-fd70-44ea971d6be1",
        "colab": {
          "base_uri": "https://localhost:8080/",
          "height": 267
        }
      },
      "source": [
        "b=-5     #@param {type: \"slider\", min: -10, max: 10,step:0.5}\n",
        "w=-3.5     #@param {type: \"slider\", min: -20, max: 20, step: 0.5}\n",
        "X=np.linspace(-10,10,100)\n",
        "Y=sig_2D(X,w,b)\n",
        "plt.plot(X,Y)\n",
        "plt.show()"
      ],
      "execution_count": 4,
      "outputs": [
        {
          "output_type": "display_data",
          "data": {
            "image/png": "[encoded data removed]",
            "text/plain": [
              "<Figure size 432x288 with 1 Axes>"
            ]
          },
          "metadata": {
            "tags": []
          }
        }
      ]
    },
    {
      "cell_type": "markdown",
      "metadata": {
        "id": "HM1-FPeTcYPX",
        "colab_type": "text"
      },
      "source": [
        "#Plotting 3D Sigmoid"
      ]
    },
    {
      "cell_type": "markdown",
      "metadata": {
        "id": "iZdt74lDfQDP",
        "colab_type": "text"
      },
      "source": [
        "$\\sigma_{W,b}(X)=\\frac{1}{1+e^{-(\\sum_i w_ix_i+b)}}$"
      ]
    },
    {
      "cell_type": "code",
      "metadata": {
        "id": "DGkuL0nAgOIO",
        "colab_type": "code",
        "colab": {}
      },
      "source": [
        "def sig_3D(X,W,b):\n",
        "  result=0\n",
        "  for x,w in zip(X,W):\n",
        "    result += np.sum(w*x)\n",
        "  return 1/(1+(np.exp(-(result+b))))\n"
      ],
      "execution_count": 0,
      "outputs": []
    },
    {
      "cell_type": "code",
      "metadata": {
        "id": "KyDqpzHng1aF",
        "colab_type": "code",
        "colab": {}
      },
      "source": [
        "X=np.array(([1,10],[2,20]))\n",
        "W=np.array(([1,1],[0.1,0.1]))\n",
        "b=2"
      ],
      "execution_count": 0,
      "outputs": []
    },
    {
      "cell_type": "code",
      "metadata": {
        "id": "YAo3RwPHrEnj",
        "colab_type": "code",
        "colab": {
          "base_uri": "https://localhost:8080/",
          "height": 52
        },
        "outputId": "9e159446-15e3-4856-dc26-91567173a75b"
      },
      "source": [
        "result_f=sig_3D(X,W,b)\n",
        "print(result_f)\n",
        "print(np.ndim(result_f))"
      ],
      "execution_count": 92,
      "outputs": [
        {
          "output_type": "stream",
          "text": [
            "0.9999997495484255\n",
            "0\n"
          ],
          "name": "stdout"
        }
      ]
    },
    {
      "cell_type": "markdown",
      "metadata": {
        "id": "FFPQ6sv3rMNp",
        "colab_type": "text"
      },
      "source": [
        "As the result is coming as a scalar, hence the function defining procedure is wrong.\n",
        "\n",
        "Let's correct the function again"
      ]
    },
    {
      "cell_type": "code",
      "metadata": {
        "id": "kj6ZVXxfqqUM",
        "colab_type": "code",
        "colab": {}
      },
      "source": [
        "def sig_3D(X,W,b):\n",
        "    return 1/(1+(np.exp(-(W*X+b))))\n",
        "# In this case the multiplication ill be element wise and it wwon't create any problem for multi dimensional tensor."
      ],
      "execution_count": 0,
      "outputs": []
    },
    {
      "cell_type": "code",
      "metadata": {
        "id": "rMC6-cVYr0AT",
        "colab_type": "code",
        "colab": {
          "base_uri": "https://localhost:8080/",
          "height": 70
        },
        "outputId": "98738ff7-5d10-4c70-fdef-c11a5f058d98"
      },
      "source": [
        "result=sig_3D(X,W,b)\n",
        "print(result)\n",
        "print(np.ndim(result))"
      ],
      "execution_count": 97,
      "outputs": [
        {
          "output_type": "stream",
          "text": [
            "[[0.95257413 0.99999386]\n",
            " [0.90024951 0.98201379]]\n",
            "2\n"
          ],
          "name": "stdout"
        }
      ]
    },
    {
      "cell_type": "markdown",
      "metadata": {
        "id": "0pQTS1Brr31K",
        "colab_type": "text"
      },
      "source": [
        "This is the correct output for the given input."
      ]
    },
    {
      "cell_type": "markdown",
      "metadata": {
        "id": "5kb3CxhtsBP1",
        "colab_type": "text"
      },
      "source": [
        "Now let's draw a surface plot for this."
      ]
    },
    {
      "cell_type": "code",
      "metadata": {
        "id": "DCXVl-KXXsfU",
        "colab_type": "code",
        "colab": {}
      },
      "source": [
        "from mpl_toolkits import mplot3d"
      ],
      "execution_count": 0,
      "outputs": []
    },
    {
      "cell_type": "code",
      "metadata": {
        "id": "QAEUT_01dkVW",
        "colab_type": "code",
        "colab": {
          "base_uri": "https://localhost:8080/",
          "height": 247
        },
        "outputId": "2c12182b-bd1c-42e2-93a8-7f92cbba1bd1"
      },
      "source": [
        "fig = plt.figure()\n",
        "ax = plt.axes(projection='3d')"
      ],
      "execution_count": 10,
      "outputs": [
        {
          "output_type": "display_data",
          "data": {
            "image/png": "[encoded data removed]",
            "text/plain": [
              "<Figure size 432x288 with 1 Axes>"
            ]
          },
          "metadata": {
            "tags": []
          }
        }
      ]
    },
    {
      "cell_type": "markdown",
      "metadata": {
        "id": "9PE_HmkHecur",
        "colab_type": "text"
      },
      "source": [
        "We need to create two vectors along the two axes and should create a meshgrid out of them"
      ]
    },
    {
      "cell_type": "code",
      "metadata": {
        "id": "5NHiYkbmdlIn",
        "colab_type": "code",
        "colab": {}
      },
      "source": [
        "x1=np.linspace(-10,10,100)\n",
        "x2=np.linspace(-10,10,100)\n",
        "X_1,X_2=np.meshgrid(x1,x2)#np.meshgrid() Return coordinate matrices from coordinate vectors. So to access the first matrix we have assign X_1 and X_2.\n",
        "\n",
        "# X_1 and X_2 both has the same elements. We can use any one of them to create the function evaluation."
      ],
      "execution_count": 0,
      "outputs": []
    },
    {
      "cell_type": "code",
      "metadata": {
        "id": "AqyGdfGYgMp_",
        "colab_type": "code",
        "colab": {
          "base_uri": "https://localhost:8080/",
          "height": 141
        },
        "outputId": "0e74ee6a-47c1-43b0-82ec-0a6578d1254f"
      },
      "source": [
        "Y=sig_3D(X_1,0.5,0)\n",
        "print(Y)"
      ],
      "execution_count": 145,
      "outputs": [
        {
          "output_type": "stream",
          "text": [
            "[[0.00669285 0.00739896 0.00817894 ... 0.99182106 0.99260104 0.99330715]\n",
            " [0.00669285 0.00739896 0.00817894 ... 0.99182106 0.99260104 0.99330715]\n",
            " [0.00669285 0.00739896 0.00817894 ... 0.99182106 0.99260104 0.99330715]\n",
            " ...\n",
            " [0.00669285 0.00739896 0.00817894 ... 0.99182106 0.99260104 0.99330715]\n",
            " [0.00669285 0.00739896 0.00817894 ... 0.99182106 0.99260104 0.99330715]\n",
            " [0.00669285 0.00739896 0.00817894 ... 0.99182106 0.99260104 0.99330715]]\n"
          ],
          "name": "stdout"
        }
      ]
    },
    {
      "cell_type": "code",
      "metadata": {
        "id": "0MuSzC6hkrer",
        "colab_type": "code",
        "colab": {
          "base_uri": "https://localhost:8080/",
          "height": 247
        },
        "outputId": "0a7015e6-2e53-4d4a-998c-b017303a5ac7"
      },
      "source": [
        "ax = plt.axes(projection='3d')\n",
        "ax.plot_surface(X_1,X_2,Y, rstride=1, cstride=1,\n",
        "                cmap='viridis', edgecolor='none')\n",
        "ax.set_title('3D Sigmoid')\n",
        "ax.view_init(10,270)"
      ],
      "execution_count": 143,
      "outputs": [
        {
          "output_type": "display_data",
          "data": {
            "image/png": "[encoded data removed]",
            "text/plain": [
              "<Figure size 432x288 with 1 Axes>"
            ]
          },
          "metadata": {
            "tags": []
          }
        }
      ]
    },
    {
      "cell_type": "code",
      "metadata": {
        "id": "9XZPU74am1sb",
        "colab_type": "code",
        "colab": {}
      },
      "source": [
        ""
      ],
      "execution_count": 0,
      "outputs": []
    }
  ]
}