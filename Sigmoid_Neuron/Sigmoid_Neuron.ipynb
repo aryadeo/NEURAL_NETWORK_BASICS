{
  "nbformat": 4,
  "nbformat_minor": 0,
  "metadata": {
    "colab": {
      "name": "Sigmoid_Neuron.ipynb",
      "provenance": [],
      "collapsed_sections": [],
      "include_colab_link": true
    },
    "kernelspec": {
      "name": "python3",
      "display_name": "Python 3"
    }
  },
  "cells": [
    {
      "cell_type": "markdown",
      "metadata": {
        "id": "view-in-github",
        "colab_type": "text"
      },
      "source": [
        "<a href=\"https://colab.research.google.com/github/aryadeo/NEURAL_NETWORK_BASICS/blob/master/Sigmoid_Neuron/Sigmoid_Neuron.ipynb\" target=\"_parent\"><img src=\"https://colab.research.google.com/assets/colab-badge.svg\" alt=\"Open In Colab\"/></a>"
      ]
    },
    {
      "cell_type": "markdown",
      "metadata": {
        "id": "FUbIYAHP3_2F",
        "colab_type": "text"
      },
      "source": [
        "#PLotting 1D sigmoid"
      ]
    },
    {
      "cell_type": "markdown",
      "metadata": {
        "id": "04XykH4ABrz2",
        "colab_type": "text"
      },
      "source": [
        "The equation ofa sigmoid function is:\n",
        "\n",
        "\n",
        "**$\\sigma_{w,b}(x)=\\frac{1}{1+e^{-wx+ b }}$**"
      ]
    },
    {
      "cell_type": "code",
      "metadata": {
        "id": "ZZQGGlN9BmIA",
        "colab_type": "code",
        "colab": {}
      },
      "source": [
        "import numpy as np\n",
        "import matplotlib.pyplot as plt\n",
        "import seaborn as sns\n",
        "sns.set() "
      ],
      "execution_count": 0,
      "outputs": []
    },
    {
      "cell_type": "code",
      "metadata": {
        "id": "YR0c8BS14xTy",
        "colab_type": "code",
        "colab": {}
      },
      "source": [
        "def sig_1D(x,w,b):\n",
        "  return 1/(1+np.exp(-(w*x+b)))"
      ],
      "execution_count": 0,
      "outputs": []
    },
    {
      "cell_type": "code",
      "metadata": {
        "id": "naxY1YzE5P5i",
        "colab_type": "code",
        "colab": {
          "base_uri": "https://localhost:8080/",
          "height": 34
        },
        "outputId": "9ecc6069-21d6-45da-db5e-7d4993798d13"
      },
      "source": [
        "sig_1D(110000000000,2,2)"
      ],
      "execution_count": 38,
      "outputs": [
        {
          "output_type": "execute_result",
          "data": {
            "text/plain": [
              "1.0"
            ]
          },
          "metadata": {
            "tags": []
          },
          "execution_count": 38
        }
      ]
    },
    {
      "cell_type": "code",
      "metadata": {
        "id": "_Znv5xba5Uqi",
        "colab_type": "code",
        "colab": {
          "base_uri": "https://localhost:8080/",
          "height": 267
        },
        "outputId": "7dad3c93-75b5-43df-bd7c-8a5ebc9f14bb"
      },
      "source": [
        "\n",
        "b=-4.5     #@param {type: \"slider\", min: -10, max: 10,step:0.5}\n",
        "w=1     #@param {type: \"slider\", min: -20, max: 20, step: 0.5}\n",
        "X=np.linspace(-10,10,100)\n",
        "Y=sig_1D(X,w,b)\n",
        "plt.plot(X,Y)\n",
        "plt.show()"
      ],
      "execution_count": 55,
      "outputs": [
        {
          "output_type": "display_data",
          "data": {
            "image/png": "[encoded data removed]",
            "text/plain": [
              "<Figure size 432x288 with 1 Axes>"
            ]
          },
          "metadata": {
            "tags": []
          }
        }
      ]
    },
    {
      "cell_type": "code",
      "metadata": {
        "id": "2kzvBYwuaYed",
        "colab_type": "code",
        "colab": {}
      },
      "source": [
        ""
      ],
      "execution_count": 0,
      "outputs": []
    }
  ]
}