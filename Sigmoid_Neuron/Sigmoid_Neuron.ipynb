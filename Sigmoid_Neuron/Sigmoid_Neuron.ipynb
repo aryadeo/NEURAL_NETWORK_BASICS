{
  "nbformat": 4,
  "nbformat_minor": 0,
  "metadata": {
    "colab": {
      "name": "Sigmoid_Neuron.ipynb",
      "provenance": [],
      "include_colab_link": true
    },
    "kernelspec": {
      "name": "python3",
      "display_name": "Python 3"
    }
  },
  "cells": [
    {
      "cell_type": "markdown",
      "metadata": {
        "id": "view-in-github",
        "colab_type": "text"
      },
      "source": [
        "<a href=\"https://colab.research.google.com/github/aryadeo/NEURAL_NETWORK_BASICS/blob/master/Sigmoid_Neuron/Sigmoid_Neuron.ipynb\" target=\"_parent\"><img src=\"https://colab.research.google.com/assets/colab-badge.svg\" alt=\"Open In Colab\"/></a>"
      ]
    },
    {
      "cell_type": "markdown",
      "metadata": {
        "id": "FUbIYAHP3_2F",
        "colab_type": "text"
      },
      "source": [
        "#PLotting 1D sigmoid"
      ]
    },
    {
      "cell_type": "markdown",
      "metadata": {
        "id": "04XykH4ABrz2",
        "colab_type": "text"
      },
      "source": [
        "The equation ofa sigmoid function is:\n",
        "\n",
        "\n",
        "**$\\sigma_{w,b}(x)=\\frac{1}{1+e^{-wx+ b }}$**"
      ]
    },
    {
      "cell_type": "code",
      "metadata": {
        "id": "ZZQGGlN9BmIA",
        "colab_type": "code",
        "colab": {}
      },
      "source": [
        "import numpy as np\n",
        "import matplotlib.pyplot as plt\n",
        "import seaborn as sns\n",
        "sns.set() "
      ],
      "execution_count": 0,
      "outputs": []
    },
    {
      "cell_type": "code",
      "metadata": {
        "id": "Jh9EpYJ89qr9",
        "colab_type": "code",
        "colab": {}
      },
      "source": [
        "import matplotlib.animation as animation"
      ],
      "execution_count": 0,
      "outputs": []
    },
    {
      "cell_type": "code",
      "metadata": {
        "id": "YR0c8BS14xTy",
        "colab_type": "code",
        "colab": {}
      },
      "source": [
        "def sig_1D(x,w,b):\n",
        "  return 1/(1+(np.exp(-w*x+b)))\n"
      ],
      "execution_count": 0,
      "outputs": []
    },
    {
      "cell_type": "code",
      "metadata": {
        "id": "naxY1YzE5P5i",
        "colab_type": "code",
        "colab": {
          "base_uri": "https://localhost:8080/",
          "height": 34
        },
        "outputId": "69cff6b1-059a-475c-f6f0-ad2062c39fc0"
      },
      "source": [
        "sig_1D(110000000000,2,2)"
      ],
      "execution_count": 14,
      "outputs": [
        {
          "output_type": "execute_result",
          "data": {
            "text/plain": [
              "1.0"
            ]
          },
          "metadata": {
            "tags": []
          },
          "execution_count": 14
        }
      ]
    },
    {
      "cell_type": "code",
      "metadata": {
        "id": "_Znv5xba5Uqi",
        "colab_type": "code",
        "colab": {
          "base_uri": "https://localhost:8080/",
          "height": 450
        },
        "outputId": "b130fc44-6ddc-4c04-9b88-0f723fe353a4"
      },
      "source": [
        "\n",
        "#while(True):\n",
        "\n",
        "fig=plt.figure()\n",
        "ax1=fig.add_subplot(1,1,1)\n",
        "\n",
        "def sigmoid_animate():\n",
        "\n",
        "  b=-2     #@param {type: \"slider\", min: -10, max: 10,step:0.5}\n",
        "  w=-13     #@param {type: \"slider\", min: -20, max: 20, step: 0.5}\n",
        "  X=np.linspace(-100,100,100)\n",
        "  Y=sig_1D(X,0.5,0)\n",
        "  ax1.clear()\n",
        "  ax1.plot(X,Y,'r-')\n",
        "ani=animation.FuncAnimation(fig,sigmoid_animate,interval=100,blit=True)\n",
        "plt.show()\n"
      ],
      "execution_count": 19,
      "outputs": [
        {
          "output_type": "stream",
          "text": [
            "Traceback (most recent call last):\n",
            "  File \"/usr/local/lib/python3.6/dist-packages/matplotlib/cbook/__init__.py\", line 216, in process\n",
            "    func(*args, **kwargs)\n",
            "  File \"/usr/local/lib/python3.6/dist-packages/matplotlib/animation.py\", line 953, in _start\n",
            "    self._init_draw()\n",
            "  File \"/usr/local/lib/python3.6/dist-packages/matplotlib/animation.py\", line 1732, in _init_draw\n",
            "    self._draw_frame(next(self.new_frame_seq()))\n",
            "  File \"/usr/local/lib/python3.6/dist-packages/matplotlib/animation.py\", line 1755, in _draw_frame\n",
            "    self._drawn_artists = self._func(framedata, *self._args)\n",
            "TypeError: sigmoid_animate() takes 0 positional arguments but 1 was given\n"
          ],
          "name": "stderr"
        },
        {
          "output_type": "display_data",
          "data": {
            "image/png": "[encoded data removed]",
            "text/plain": [
              "<Figure size 432x288 with 1 Axes>"
            ]
          },
          "metadata": {
            "tags": []
          }
        }
      ]
    },
    {
      "cell_type": "code",
      "metadata": {
        "id": "t4vanoNd6KRD",
        "colab_type": "code",
        "colab": {}
      },
      "source": [
        "\n",
        "plt.plot?"
      ],
      "execution_count": 0,
      "outputs": []
    },
    {
      "cell_type": "code",
      "metadata": {
        "id": "VtXwBNmbA_Yl",
        "colab_type": "code",
        "colab": {}
      },
      "source": [
        ""
      ],
      "execution_count": 0,
      "outputs": []
    }
  ]
}