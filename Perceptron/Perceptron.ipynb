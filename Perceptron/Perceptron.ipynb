{
  "nbformat": 4,
  "nbformat_minor": 0,
  "metadata": {
    "colab": {
      "name": "Perceptron.ipynb",
      "provenance": [],
      "include_colab_link": true
    },
    "kernelspec": {
      "name": "python3",
      "display_name": "Python 3"
    }
  },
  "cells": [
    {
      "cell_type": "markdown",
      "metadata": {
        "id": "view-in-github",
        "colab_type": "text"
      },
      "source": [
        "<a href=\"https://colab.research.google.com/github/aryadeo/NEURAL_NETWORK_BASICS/blob/master/Pereptron/Perceptron.ipynb\" target=\"_parent\"><img src=\"https://colab.research.google.com/assets/colab-badge.svg\" alt=\"Open In Colab\"/></a>"
      ]
    },
    {
      "cell_type": "markdown",
      "metadata": {
        "id": "OeaedBBsWGvW",
        "colab_type": "text"
      },
      "source": [
        "#Perceptron"
      ]
    },
    {
      "cell_type": "code",
      "metadata": {
        "id": "SQxg3LDgWGBy",
        "colab_type": "code",
        "colab": {}
      },
      "source": [
        "import numpy as np\n",
        "import pandas as pd\n",
        "\n",
        "import sklearn.datasets\n",
        "from sklearn.model_selection import train_test_split\n",
        "from sklearn.metrics import accuracy_score\n",
        "\n",
        "import matplotlib.pyplot as plt\n",
        "import seaborn as sns\n",
        "sns.set()"
      ],
      "execution_count": 0,
      "outputs": []
    },
    {
      "cell_type": "code",
      "metadata": {
        "id": "b-9qTPZkWOMt",
        "colab_type": "code",
        "colab": {}
      },
      "source": [
        "breast_cancer=sklearn.datasets.load_breast_cancer()"
      ],
      "execution_count": 0,
      "outputs": []
    },
    {
      "cell_type": "code",
      "metadata": {
        "id": "8GmbyKyXWWm0",
        "colab_type": "code",
        "colab": {}
      },
      "source": [
        "X=breast_cancer.data\n",
        "Y=breast_cancer.target"
      ],
      "execution_count": 0,
      "outputs": []
    },
    {
      "cell_type": "code",
      "metadata": {
        "id": "7PNbiRjnWYzM",
        "colab_type": "code",
        "colab": {}
      },
      "source": [
        "X_train,X_test,Y_train,Y_test=train_test_split(X,Y,test_size=0.1,stratify=Y,random_state=1)"
      ],
      "execution_count": 0,
      "outputs": []
    },
    {
      "cell_type": "code",
      "metadata": {
        "id": "IfBOurnVWfAO",
        "colab_type": "code",
        "colab": {}
      },
      "source": [
        "class Perceptron:\n",
        "\n",
        "  def __init__(self):\n",
        "    self.b=None\n",
        "    self.w=None\n",
        "\n",
        "\n",
        "  def model(self,X):\n",
        "    return 1 if (np.dot(self.w,X)>=self.b) else 0\n",
        "\n",
        "\n",
        "  def predict(self,X):\n",
        "    Y=[]\n",
        "    for x in X:\n",
        "      result=self.model(x)\n",
        "      Y.append(result)\n",
        "    return np.array(Y)\n",
        "\n",
        "\n",
        "\n",
        "  def fit(self,X,Y,epochs=1,lr=1):       #default #epochs=1 and lr=1\n",
        "    self.b=0\n",
        "    self.w=np.ones(X.shape[1])\n",
        "\n",
        "    accuracy=[]\n",
        "    max_acc=0\n",
        "    w_matrix=[]\n",
        "\n",
        "    for i in range(epochs):\n",
        "\n",
        "      for x,y in zip(X,Y):\n",
        "        y_pred=self.model(x)\n",
        "\n",
        "        if y==1 and y_pred==0:\n",
        "          self.b=self.b+lr*1\n",
        "          self.w =self.w+lr*x\n",
        "        elif y==0 and y_pred==1:\n",
        "          self.b=self.b-lr*1\n",
        "          self.w=self.w-lr*x\n",
        "      accuracy.append(accuracy_score(self.predict(X),Y))\n",
        "      if (accuracy[i]>max_acc):\n",
        "        max_acc=accuracy[i]\n",
        "        ckpw=self.w\n",
        "        ckpb=self.b\n",
        "      w_matrix.append(self.w)\n",
        "    self.w=ckpw\n",
        "    self.b=ckpb##storing the w and b vaulue corresponding to maximum accuracy\n",
        "    plt.plot(np.array(accuracy))\n",
        "    plt.ylim([0,1])\n",
        "    plt.show()\n",
        "    print('maximum accuracy is:',max_acc)\n",
        "    return np.array(w_matrix)"
      ],
      "execution_count": 0,
      "outputs": []
    },
    {
      "cell_type": "code",
      "metadata": {
        "id": "DGz_Xv1QWlIQ",
        "colab_type": "code",
        "colab": {
          "base_uri": "https://localhost:8080/",
          "height": 290
        },
        "outputId": "5df9674d-75dd-43f8-c6e9-e2333416399d"
      },
      "source": [
        "perceptron=Perceptron()\n",
        "w_matrix=perceptron.fit(X_train,Y_train,100,0.01)"
      ],
      "execution_count": 6,
      "outputs": [
        {
          "output_type": "display_data",
          "data": {
            "image/png": "[encoded data removed]",
            "text/plain": [
              "<Figure size 432x288 with 1 Axes>"
            ]
          },
          "metadata": {
            "tags": []
          }
        },
        {
          "output_type": "stream",
          "text": [
            "maximum accuracy is: 0.92578125\n"
          ],
          "name": "stdout"
        }
      ]
    }
  ]
}
